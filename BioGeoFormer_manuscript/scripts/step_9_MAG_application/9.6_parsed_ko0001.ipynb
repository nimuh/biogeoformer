{
 "cells": [
  {
   "cell_type": "code",
   "execution_count": null,
   "metadata": {},
   "outputs": [
    {
     "name": "stdout",
     "output_type": "stream",
     "text": [
      "/usr/local/bin/python3\n"
     ]
    }
   ],
   "source": []
  },
  {
   "cell_type": "code",
   "execution_count": 1,
   "metadata": {},
   "outputs": [
    {
     "name": "stdout",
     "output_type": "stream",
     "text": [
      "Working directory set to: /Users/wynne/Dropbox/BioGeoFormer/scripts/step_9_MAG_application\n"
     ]
    }
   ],
   "source": [
    "import os\n",
    "from pathlib import Path\n",
    "\n",
    "try:\n",
    "    from IPython import get_ipython\n",
    "    ipynb_path = Path(get_ipython().run_line_magic('pwd', '')).resolve()\n",
    "except Exception:\n",
    "    ipynb_path = Path.cwd().resolve()\n",
    "\n",
    "os.chdir(ipynb_path)\n",
    "print(\"Working directory set to:\", os.getcwd())"
   ]
  },
  {
   "cell_type": "code",
   "execution_count": 3,
   "metadata": {},
   "outputs": [
    {
     "name": "stdout",
     "output_type": "stream",
     "text": [
      "       KO Gene_Symbols                    Description       EC  \\\n",
      "0  K00844           HK                     hexokinase  2.7.1.1   \n",
      "1  K12407          GCK                    glucokinase  2.7.1.2   \n",
      "2  K00845          glk                    glucokinase  2.7.1.2   \n",
      "3  K25026          glk                    glucokinase  2.7.1.2   \n",
      "4  K01810     GPI, pgi  glucose-6-phosphate isomerase  5.3.1.9   \n",
      "\n",
      "                                           Hierarchy  \n",
      "0  09100 Metabolism > 09101 Carbohydrate metaboli...  \n",
      "1  09100 Metabolism > 09101 Carbohydrate metaboli...  \n",
      "2  09100 Metabolism > 09101 Carbohydrate metaboli...  \n",
      "3  09100 Metabolism > 09101 Carbohydrate metaboli...  \n",
      "4  09100 Metabolism > 09101 Carbohydrate metaboli...  \n",
      "\n",
      "✅ Parsed 62599 KO entries.\n"
     ]
    }
   ],
   "source": [
    "import os\n",
    "import json\n",
    "import pandas as pd\n",
    "import re\n",
    "\n",
    "# === 1. Set your working directory ===\n",
    "# Uncomment and update this line to where your file is saved:\n",
    "os.chdir(\"../../cold_seep_MAG_application/KEGG_mapping/\")\n",
    "\n",
    "# === 2. Load the JSON file ===\n",
    "with open(\"ko00001.json\", \"r\") as f:\n",
    "    data = json.load(f)\n",
    "\n",
    "# === 3. Recursive function to extract KO entries ===\n",
    "def extract_kos(node, hierarchy_path=\"\"):\n",
    "    results = []\n",
    "    name = node.get(\"name\", \"\")\n",
    "    current_path = f\"{hierarchy_path} > {name}\" if hierarchy_path else name\n",
    "\n",
    "    # Check if this node is a KO entry\n",
    "    match = re.match(r\"^(K\\d{5})\\s+(.*)\", name)\n",
    "    if match:\n",
    "        ko = match.group(1)\n",
    "        rest = match.group(2)\n",
    "\n",
    "        # Extract EC numbers\n",
    "        ec_match = re.search(r\"\\[EC:(.*?)\\]\", rest)\n",
    "        ec = ec_match.group(1).strip() if ec_match else None\n",
    "        rest = re.sub(r\"\\[EC:.*?\\]\", \"\", rest).strip()\n",
    "\n",
    "        # Split into gene symbols and description\n",
    "        if ';' in rest:\n",
    "            gene, desc = [x.strip() for x in rest.split(';', 1)]\n",
    "        else:\n",
    "            gene, desc = \"\", rest\n",
    "\n",
    "        results.append({\n",
    "            \"KO\": ko,\n",
    "            \"Gene_Symbols\": gene,\n",
    "            \"Description\": desc,\n",
    "            \"EC\": ec,\n",
    "            \"Hierarchy\": hierarchy_path\n",
    "        })\n",
    "\n",
    "    # Recursively process children\n",
    "    for child in node.get(\"children\", []):\n",
    "        results.extend(extract_kos(child, current_path))\n",
    "\n",
    "    return results\n",
    "\n",
    "# === 4. Parse from the root \"children\" list ===\n",
    "root_children = data.get(\"children\", [])\n",
    "parsed_kos = []\n",
    "for child in root_children:\n",
    "    parsed_kos.extend(extract_kos(child))\n",
    "\n",
    "# === 5. Convert to DataFrame ===\n",
    "df = pd.DataFrame(parsed_kos)\n",
    "\n",
    "# === 6. Preview or save ===\n",
    "print(df.head())\n",
    "print(f\"\\n✅ Parsed {len(df)} KO entries.\")\n",
    "\n",
    "# Optional: save to file\n",
    "df.to_csv(\"../../cold_seep_MAG_application/KEGG_mapping/parsed_ko00001.csv\", index=False)\n"
   ]
  }
 ],
 "metadata": {
  "kernelspec": {
   "display_name": "metaphor",
   "language": "python",
   "name": "python3"
  },
  "language_info": {
   "codemirror_mode": {
    "name": "ipython",
    "version": 3
   },
   "file_extension": ".py",
   "mimetype": "text/x-python",
   "name": "python",
   "nbconvert_exporter": "python",
   "pygments_lexer": "ipython3",
   "version": "3.11.7"
  }
 },
 "nbformat": 4,
 "nbformat_minor": 2
}
