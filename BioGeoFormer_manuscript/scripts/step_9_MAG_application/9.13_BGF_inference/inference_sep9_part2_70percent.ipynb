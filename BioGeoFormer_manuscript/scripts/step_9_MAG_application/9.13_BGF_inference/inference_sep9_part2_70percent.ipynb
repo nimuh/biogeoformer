{
  "cells": [
    {
      "cell_type": "code",
      "execution_count": null,
      "metadata": {
        "colab": {
          "base_uri": "https://localhost:8080/"
        },
        "id": "GWHStIBNyjjn",
        "outputId": "c7395325-eabb-4c81-a00f-cbf41deba4b0"
      },
      "outputs": [
        {
          "name": "stdout",
          "output_type": "stream",
          "text": [
            "Mounted at /content/drive\n"
          ]
        }
      ],
      "source": [
        "from google.colab import drive\n",
        "drive.mount('/content/drive')"
      ]
    },
    {
      "cell_type": "code",
      "execution_count": null,
      "metadata": {
        "colab": {
          "base_uri": "https://localhost:8080/"
        },
        "id": "58hmziJHy8XK",
        "outputId": "811c4344-ac7c-423a-9d3f-72bab82acc10"
      },
      "outputs": [
        {
          "name": "stdout",
          "output_type": "stream",
          "text": [
            "/content/drive/MyDrive/cycformer_run/cycformer_sep9\n"
          ]
        }
      ],
      "source": [
        "%cd /content/drive/MyDrive/cycformer_run/cycformer_sep9/"
      ]
    },
    {
      "cell_type": "code",
      "execution_count": null,
      "metadata": {
        "colab": {
          "base_uri": "https://localhost:8080/"
        },
        "id": "9bX9U0Sg10nx",
        "outputId": "fe3cc2dc-5d8a-401f-aa25-a08248d02a8a"
      },
      "outputs": [
        {
          "name": "stdout",
          "output_type": "stream",
          "text": [
            "Collecting biopython\n",
            "  Downloading biopython-1.85-cp312-cp312-manylinux_2_17_x86_64.manylinux2014_x86_64.whl.metadata (13 kB)\n",
            "Requirement already satisfied: numpy in /usr/local/lib/python3.12/dist-packages (from biopython) (2.0.2)\n",
            "Downloading biopython-1.85-cp312-cp312-manylinux_2_17_x86_64.manylinux2014_x86_64.whl (3.3 MB)\n",
            "\u001b[?25l   \u001b[90m━━━━━━━━━━━━━━━━━━━━━━━━━━━━━━━━━━━━━━━━\u001b[0m \u001b[32m0.0/3.3 MB\u001b[0m \u001b[31m?\u001b[0m eta \u001b[36m-:--:--\u001b[0m\r\u001b[2K   \u001b[90m━━━━━━━━━━━━━━━━━━━━━━━━━━━━━━━━━━━━━━━━\u001b[0m \u001b[32m3.3/3.3 MB\u001b[0m \u001b[31m115.6 MB/s\u001b[0m eta \u001b[36m0:00:00\u001b[0m\n",
            "\u001b[?25hInstalling collected packages: biopython\n",
            "Successfully installed biopython-1.85\n"
          ]
        }
      ],
      "source": [
        "!pip install biopython"
      ]
    },
    {
      "cell_type": "code",
      "execution_count": null,
      "metadata": {
        "colab": {
          "base_uri": "https://localhost:8080/"
        },
        "id": "lpSOIzLkzDbs",
        "outputId": "3a0a7139-e471-4b75-ffa0-c82f4c4b7351"
      },
      "outputs": [
        {
          "name": "stdout",
          "output_type": "stream",
          "text": [
            "Obtaining file:///content/drive/MyDrive/cycformer_run/cycformer_sep9/cycformer\n",
            "  Preparing metadata (setup.py) ... \u001b[?25l\u001b[?25hdone\n",
            "Installing collected packages: cyc\n",
            "  Running setup.py develop for cyc\n",
            "Successfully installed cyc-0.0.0\n"
          ]
        }
      ],
      "source": [
        "pip install -e ./cycformer"
      ]
    },
    {
      "cell_type": "code",
      "execution_count": null,
      "metadata": {
        "colab": {
          "background_save": true,
          "base_uri": "https://localhost:8080/"
        },
        "id": "da-XtHYszsOH",
        "outputId": "15478c53-34ee-4064-bc0d-43a9896d2906"
      },
      "outputs": [
        {
          "name": "stdout",
          "output_type": "stream",
          "text": [
            "2025-09-23 04:25:47.557267: I tensorflow/core/util/port.cc:153] oneDNN custom operations are on. You may see slightly different numerical results due to floating-point round-off errors from different computation orders. To turn them off, set the environment variable `TF_ENABLE_ONEDNN_OPTS=0`.\n",
            "2025-09-23 04:25:47.575299: E external/local_xla/xla/stream_executor/cuda/cuda_fft.cc:467] Unable to register cuFFT factory: Attempting to register factory for plugin cuFFT when one has already been registered\n",
            "WARNING: All log messages before absl::InitializeLog() is called are written to STDERR\n",
            "E0000 00:00:1758601547.596577     891 cuda_dnn.cc:8579] Unable to register cuDNN factory: Attempting to register factory for plugin cuDNN when one has already been registered\n",
            "E0000 00:00:1758601547.603027     891 cuda_blas.cc:1407] Unable to register cuBLAS factory: Attempting to register factory for plugin cuBLAS when one has already been registered\n",
            "W0000 00:00:1758601547.619345     891 computation_placer.cc:177] computation placer already registered. Please check linkage and avoid linking the same target more than once.\n",
            "W0000 00:00:1758601547.619371     891 computation_placer.cc:177] computation placer already registered. Please check linkage and avoid linking the same target more than once.\n",
            "W0000 00:00:1758601547.619374     891 computation_placer.cc:177] computation placer already registered. Please check linkage and avoid linking the same target more than once.\n",
            "W0000 00:00:1758601547.619377     891 computation_placer.cc:177] computation placer already registered. Please check linkage and avoid linking the same target more than once.\n",
            "2025-09-23 04:25:47.624191: I tensorflow/core/platform/cpu_feature_guard.cc:210] This TensorFlow binary is optimized to use available CPU instructions in performance-critical operations.\n",
            "To enable the following instructions: AVX2 AVX512F AVX512_VNNI FMA, in other operations, rebuild TensorFlow with the appropriate compiler flags.\n",
            "{0: 'SOX', 1: 'aceti_met', 2: 'annamox', 3: 'assnitred', 4: 'asssulred', 5: 'cenmetpat', 6: 'cenmetpat,aom', 7: 'denitrification', 8: 'dissnitred', 9: 'dsro', 10: 'in_or_sul', 11: 'methyl_met', 12: 'nitfix', 13: 'nitrification', 14: 'nitrogen_other', 15: 'odegsyn', 16: 'org_phos_hyd', 17: 'org_sul_trans', 18: 'ox_phosphorylation', 19: 'oxid_formaldehyde', 20: 'oxid_formate', 21: 'oxid_met_c1', 22: 'pentose', 23: 'phos_other', 24: 'phosph_met', 25: 'phosphotransferase', 26: 'purine', 27: 'pyrimidine', 28: 'pyruvate', 29: 'rump', 30: 'serine', 31: 'sul_other', 32: 'sulfur_dis', 33: 'sulfur_ox', 34: 'sulred', 35: 'transporters', 36: 'two_comp'}\n",
            "\n",
            "Loading model -> cycformer/models/final_models/cyc_70 for identity at 70\n",
            "tokenizer_config.json: 100% 95.0/95.0 [00:00<00:00, 914kB/s]\n",
            "vocab.txt: 100% 93.0/93.0 [00:00<00:00, 924kB/s]\n",
            "special_tokens_map.json: 100% 125/125 [00:00<00:00, 1.23MB/s]\n",
            "File type:  fasta\n",
            "Filtered out 19682 sequences longer than 1024 characters\n",
            "Remaining sequences: 2074637\n",
            "done.\n",
            "           index  ...                                               SEQS\n",
            "0              0  ...  MHKPSQFPGQRGFYISATKKSSGKTVISLGLGAALTQTGFSVQSFK...\n",
            "1              1  ...  MKNWLKTPIRRFLVLLTLGLGIAPGLSMSQAGSTEVLPGSRAAGLE...\n",
            "2              2  ...  MLITGIYAVGFYIATIILIVGVAMKVIQYARTPSPLVIPTTPAPIT...\n",
            "3              3  ...  MSETKKMLYINRNAPYGTVYALEGLEVVLIGAAFEQDVSMAFIGDG...\n",
            "4              4  ...  MADTKYPTPMLDELENGPWPSFITGIKRLRDEHPDERVNGMNNGLL...\n",
            "...          ...  ...                                                ...\n",
            "2074632  2094314  ...  SQTAIYLATAPKSNSALIAYEKALKDVKRYGPLSVPLHLRNAPTTL...\n",
            "2074633  2094315  ...  VRGKRVVKLSPQALETLAIIFKETPITRIKIEELRGVDSSHTLSVL...\n",
            "2074634  2094316  ...  MREQLLIYLGLSFMLLSTVWSFPQGDVPDNIEELFDRYTRDIIELN...\n",
            "2074635  2094317  ...  MKVMKNLPLALSLLGLFHCLAFSTEVGTTGMGFLKIRTSARPLGMG...\n",
            "2074636  2094318  ...                           MECKEIRNYLVDYIFEEFKKPWMK\n",
            "\n",
            "[2074637 rows x 3 columns]\n",
            "  0% 0/2074637 [00:00<?, ?it/s]Asking to truncate to max_length but no maximum length is provided and the model has no predefined maximum length. Default to no truncation.\n",
            "100% 2074637/2074637 [5:06:47<00:00, 112.71it/s]\n",
            "           index  ... confidence\n",
            "0              0  ...   0.814386\n",
            "1              1  ...   0.224032\n",
            "2              2  ...   0.689502\n",
            "3              3  ...   0.563291\n",
            "4              4  ...   0.895868\n",
            "...          ...  ...        ...\n",
            "2074632  2094314  ...   0.139939\n",
            "2074633  2094315  ...   0.158967\n",
            "2074634  2094316  ...   0.695894\n",
            "2074635  2094317  ...   0.283496\n",
            "2074636  2094318  ...   0.088175\n",
            "\n",
            "[2074637 rows x 5 columns]\n"
          ]
        }
      ],
      "source": [
        "!python ./cycformer/cyc/inference.py --sim 70 --fasta_file ./cycformer/data/MAGS_forcycformer.part_002.fasta --annot_file ./cycformer/output/MAGS_forcycformer_sep22_70_part2.csv"
      ]
    }
  ],
  "metadata": {
    "accelerator": "GPU",
    "colab": {
      "gpuType": "A100",
      "provenance": []
    },
    "kernelspec": {
      "display_name": "Python 3",
      "name": "python3"
    },
    "language_info": {
      "name": "python"
    }
  },
  "nbformat": 4,
  "nbformat_minor": 0
}