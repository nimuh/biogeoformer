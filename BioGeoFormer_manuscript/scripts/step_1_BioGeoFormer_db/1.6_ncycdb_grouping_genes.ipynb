{
 "cells": [
  {
   "cell_type": "code",
   "execution_count": 1,
   "id": "55af13cc",
   "metadata": {},
   "outputs": [
    {
     "name": "stdout",
     "output_type": "stream",
     "text": [
      "this string is a dup!:napA\n",
      "this string is a dup!:napB\n",
      "this string is a dup!:napC\n",
      "this string is a dup!:narG\n",
      "this string is a dup!:narH\n",
      "this string is a dup!:narJ\n",
      "this string is a dup!:narI\n",
      "this string is a dup!:narZ\n",
      "this string is a dup!:narY\n",
      "this string is a dup!:narV\n",
      "this string is a dup!:narW\n"
     ]
    }
   ],
   "source": [
    "gene_list_all = [\"amoA_A\", \"amoB_A\", \"amoC_A\", \"amoA_B\", \"amoB_B\",\n",
    "                 \"amoC_B\", \"hao\", \"nxrA\", \"nxrB\", \"napA\", \"napB\", \n",
    "                 \"napC\", \"narG\", \"narH\", \"narJ\", \"narI\", \"nirK\", \n",
    "                 \"nirS\", \"norB\", \"norC\", \"nosZ\", \"narZ\", \"narY\", \n",
    "                 \"narV\", \"narW\", \"nasA\", \"nasB\", \"nirA\", \"NR\", \n",
    "                 \"narB\", \"narC\", \"napA\", \"napB\", \"napC\", \"narG\", \n",
    "                 \"narH\", \"narJ\", \"narI\", \"narZ\", \"narY\", \"narV\", \n",
    "                 \"narW\", \"nirB\", \"nirD\", \"nrfA\", \"nrfB\", \"nrfC\", \n",
    "                 \"nrfD\", \"anfG\", \"nifD\", \"nifH\", \"nifK\", \"nifW\", \n",
    "                 \"hzo\", \"hzsA\", \"hzsB\", \"hzsC\", \"hdh\", \"ureA\", \n",
    "                 \"ureB\", \"ureC\", \"nao\", \"nmo\", \"gdh_K00260\", \n",
    "                 \"gdh_K00261\", \"gdh_K00262\", \"gdh_K15371\", \n",
    "                 \"gs_K00264\", \"gs_K00265\", \"gs_K00266\", \"gs_K00284\", \n",
    "                 \"glsA\", \"glnA\", \"asnB\", \"ansB\", \"hcp\", \"pmoA\", \"pmoB\", \n",
    "                 \"pmoC\"\n",
    "            ]\n",
    "\n",
    "unique_strings = []\n",
    "\n",
    "for string in gene_list_all: \n",
    "    if string not in unique_strings: \n",
    "        unique_strings.append(string)\n",
    "    else: \n",
    "        print(\"this string is a dup!:\" + string)"
   ]
  },
  {
   "cell_type": "code",
   "execution_count": 2,
   "id": "e3d3bc1d",
   "metadata": {},
   "outputs": [],
   "source": [
    "#nitrification"
   ]
  },
  {
   "cell_type": "code",
   "execution_count": 3,
   "id": "d457965b",
   "metadata": {},
   "outputs": [
    {
     "name": "stdout",
     "output_type": "stream",
     "text": [
      "['amoA_A', 'amoB_A', 'amoC_A', 'amoA_B', 'amoB_B', 'amoC_B', 'hao', 'nxrA', 'nxrB']\n"
     ]
    }
   ],
   "source": [
    "gene_list = [\"amoA_A\", \"amoB_A\", \"amoC_A\", \"amoA_B\", \"amoB_B\",\n",
    "                 \"amoC_B\", \"hao\", \"nxrA\", \"nxrB\"]\n",
    "\n",
    "nitrification = []\n",
    "cycle_dict = {}\n",
    "\n",
    "for gene in gene_list: \n",
    "  nitrification.append(gene)\n",
    "    \n",
    "cycle_dict[\"nitrification\"] = nitrification\n",
    "    \n",
    "print(nitrification)"
   ]
  },
  {
   "cell_type": "code",
   "execution_count": 4,
   "id": "e2b160ce",
   "metadata": {},
   "outputs": [],
   "source": [
    "#denitrification"
   ]
  },
  {
   "cell_type": "code",
   "execution_count": 5,
   "id": "1d24373f",
   "metadata": {},
   "outputs": [
    {
     "name": "stdout",
     "output_type": "stream",
     "text": [
      "['napA', 'napB', 'napC', 'narG', 'narH', 'narJ', 'narI', 'nirK', 'nirS', 'norB', 'norC', 'nosZ', 'narZ', 'narY', 'narV', 'narW']\n"
     ]
    }
   ],
   "source": [
    "gene_list = [\"napA\", \"napB\", \n",
    "                 \"napC\", \"narG\", \"narH\", \"narJ\", \"narI\", \"nirK\", \n",
    "                 \"nirS\", \"norB\", \"norC\", \"nosZ\", \"narZ\", \"narY\", \n",
    "                 \"narV\", \"narW\"]\n",
    "\n",
    "denitrification = []\n",
    "\n",
    "for gene in gene_list: \n",
    "  denitrification.append(gene)\n",
    "    \n",
    "cycle_dict[\"denitrification\"] = denitrification\n",
    "    \n",
    "print(denitrification)"
   ]
  },
  {
   "cell_type": "code",
   "execution_count": 7,
   "id": "be5ec074",
   "metadata": {},
   "outputs": [],
   "source": [
    "#assimilatory nitrate reduction"
   ]
  },
  {
   "cell_type": "code",
   "execution_count": 6,
   "id": "4077c815",
   "metadata": {},
   "outputs": [
    {
     "name": "stdout",
     "output_type": "stream",
     "text": [
      "['nasA', 'nasB', 'nirA', 'NR', 'narB', 'narC']\n"
     ]
    }
   ],
   "source": [
    "gene_list = [\"nasA\", \"nasB\", \"nirA\", \"NR\", \n",
    "                 \"narB\", \"narC\"]\n",
    "\n",
    "assnitred = []\n",
    "\n",
    "for gene in gene_list: \n",
    "  assnitred.append(gene)\n",
    "    \n",
    "cycle_dict[\"assnitred\"] = assnitred\n",
    "    \n",
    "print(assnitred)"
   ]
  },
  {
   "cell_type": "code",
   "execution_count": 7,
   "id": "2faef3e8",
   "metadata": {},
   "outputs": [],
   "source": [
    "#dissimilatory nitrate reduction"
   ]
  },
  {
   "cell_type": "code",
   "execution_count": 8,
   "id": "4b58bf25",
   "metadata": {},
   "outputs": [
    {
     "name": "stdout",
     "output_type": "stream",
     "text": [
      "['napA', 'napB', 'napC', 'narG', 'narH', 'narJ', 'narI', 'narZ', 'narY', 'narV', 'narW', 'nirB', 'nirD', 'nrfA', 'nrfB', 'nrfC', 'nrfD']\n"
     ]
    }
   ],
   "source": [
    "gene_list = [\"napA\", \"napB\", \"napC\", \"narG\", \n",
    "                 \"narH\", \"narJ\", \"narI\", \"narZ\", \"narY\", \"narV\", \n",
    "                 \"narW\", \"nirB\", \"nirD\", \"nrfA\", \"nrfB\", \"nrfC\", \n",
    "                 \"nrfD\"]\n",
    "\n",
    "dissnitred = []\n",
    "\n",
    "for gene in gene_list: \n",
    "  dissnitred.append(gene)\n",
    "    \n",
    "cycle_dict[\"dissnitred\"] = dissnitred\n",
    "    \n",
    "print(dissnitred)"
   ]
  },
  {
   "cell_type": "code",
   "execution_count": 9,
   "id": "c25e41cb",
   "metadata": {},
   "outputs": [],
   "source": [
    "#nitrogen fixation "
   ]
  },
  {
   "cell_type": "code",
   "execution_count": 10,
   "id": "a500c708",
   "metadata": {},
   "outputs": [
    {
     "name": "stdout",
     "output_type": "stream",
     "text": [
      "['anfG', 'nifD', 'nifH', 'nifK', 'nifW']\n"
     ]
    }
   ],
   "source": [
    "gene_list = [\"anfG\", \"nifD\", \"nifH\", \"nifK\", \"nifW\"]\n",
    "\n",
    "nitfix = []\n",
    "\n",
    "for gene in gene_list: \n",
    "  nitfix.append(gene)\n",
    "    \n",
    "cycle_dict[\"nitfix\"] = nitfix\n",
    "    \n",
    "print(nitfix)"
   ]
  },
  {
   "cell_type": "code",
   "execution_count": 11,
   "id": "76c26726",
   "metadata": {},
   "outputs": [],
   "source": [
    "#annamox"
   ]
  },
  {
   "cell_type": "code",
   "execution_count": 12,
   "id": "f114dd63",
   "metadata": {},
   "outputs": [
    {
     "name": "stdout",
     "output_type": "stream",
     "text": [
      "['hzo', 'hzsA', 'hzsB', 'hzsC', 'hdh']\n"
     ]
    }
   ],
   "source": [
    "gene_list = [\"hzo\", \"hzsA\", \"hzsB\", \"hzsC\", \"hdh\"]\n",
    "\n",
    "annamox = []\n",
    "\n",
    "for gene in gene_list: \n",
    "  annamox.append(gene)\n",
    "    \n",
    "cycle_dict[\"annamox\"] = annamox\n",
    "    \n",
    "print(annamox)"
   ]
  },
  {
   "cell_type": "code",
   "execution_count": 15,
   "id": "f1ab3c0a",
   "metadata": {},
   "outputs": [],
   "source": [
    "#organic degradation and synthesis"
   ]
  },
  {
   "cell_type": "code",
   "execution_count": 13,
   "id": "77a22617",
   "metadata": {},
   "outputs": [
    {
     "name": "stdout",
     "output_type": "stream",
     "text": [
      "['ureA', 'ureB', 'ureC', 'nao', 'nmo', 'gdh_K00260', 'gdh_K00261', 'gdh_K00262', 'gdh_K15371', 'gs_K00264', 'gs_K00265', 'gs_K00266', 'gs_K00284', 'glsA', 'glnA', 'asnB', 'ansB']\n"
     ]
    }
   ],
   "source": [
    "gene_list = [\"ureA\", \n",
    "                 \"ureB\", \"ureC\", \"nao\", \"nmo\", \"gdh_K00260\", \n",
    "                 \"gdh_K00261\", \"gdh_K00262\", \"gdh_K15371\", \n",
    "                 \"gs_K00264\", \"gs_K00265\", \"gs_K00266\", \"gs_K00284\", \n",
    "                 \"glsA\", \"glnA\", \"asnB\", \"ansB\"]\n",
    "\n",
    "odegsyn = []\n",
    "\n",
    "for gene in gene_list: \n",
    "  odegsyn.append(gene)\n",
    "    \n",
    "cycle_dict[\"odegsyn\"] = odegsyn\n",
    "    \n",
    "print(odegsyn)"
   ]
  },
  {
   "cell_type": "code",
   "execution_count": 17,
   "id": "db06213e",
   "metadata": {},
   "outputs": [],
   "source": [
    "#nitrogen other"
   ]
  },
  {
   "cell_type": "code",
   "execution_count": 14,
   "id": "ef4e799c",
   "metadata": {},
   "outputs": [
    {
     "name": "stdout",
     "output_type": "stream",
     "text": [
      "['hcp', 'pmoA', 'pmoB', 'pmoC']\n"
     ]
    }
   ],
   "source": [
    "gene_list = [\"hcp\", \"pmoA\", \"pmoB\", \"pmoC\"]\n",
    "\n",
    "nitrogen_other = []\n",
    "\n",
    "for gene in gene_list: \n",
    "  nitrogen_other.append(gene)\n",
    "    \n",
    "cycle_dict[\"nitrogen_other\"] = nitrogen_other\n",
    "    \n",
    "print(nitrogen_other)"
   ]
  },
  {
   "cell_type": "code",
   "execution_count": 15,
   "id": "526999f8",
   "metadata": {},
   "outputs": [
    {
     "name": "stdout",
     "output_type": "stream",
     "text": [
      "nitrification\n",
      "denitrification\n",
      "assnitred\n",
      "dissnitred\n",
      "nitfix\n",
      "annamox\n",
      "odegsyn\n",
      "nitrogen_other\n"
     ]
    }
   ],
   "source": [
    "for value in cycle_dict: \n",
    "    print(value)\n",
    "#    for value2 in cycle_dict[value]: \n",
    "#        print(value2)"
   ]
  },
  {
   "cell_type": "code",
   "execution_count": 19,
   "id": "00860506",
   "metadata": {},
   "outputs": [],
   "source": [
    "import os\n",
    "from pathlib import Path\n",
    "\n",
    "# Get the current notebook's directory\n",
    "notebook_dir = Path(os.getcwd())\n",
    "\n",
    "\n",
    "output_dir = notebook_dir / 'cycle_dicts'\n",
    "output_dir.mkdir(exist_ok=True)  # create folder if it doesn’t exist\n",
    "\n",
    "# Write your files\n",
    "with open(output_dir / '../../../cycle_dicts/cycle_dict_ncyc.txt', 'w') as f:\n",
    "    print(cycle_dict, file=f)\n",
    "\n",
    "import json\n",
    "with open(output_dir / '../../../cycle_dicts/cycle_dict_ncyc.json', 'w') as fp:\n",
    "    json.dump(cycle_dict, fp)\n"
   ]
  },
  {
   "cell_type": "code",
   "execution_count": 21,
   "id": "b09e9cc9",
   "metadata": {},
   "outputs": [
    {
     "name": "stdout",
     "output_type": "stream",
     "text": [
      "/Users/wynne/Dropbox/BioGeoFormer/scripts/step_1_grouping_genes\n"
     ]
    }
   ],
   "source": [
    "import os\n",
    "print(os.getcwd())\n"
   ]
  },
  {
   "cell_type": "code",
   "execution_count": 22,
   "id": "d8f0e636",
   "metadata": {},
   "outputs": [
    {
     "data": {
      "text/html": [
       "<div>\n",
       "<style scoped>\n",
       "    .dataframe tbody tr th:only-of-type {\n",
       "        vertical-align: middle;\n",
       "    }\n",
       "\n",
       "    .dataframe tbody tr th {\n",
       "        vertical-align: top;\n",
       "    }\n",
       "\n",
       "    .dataframe thead th {\n",
       "        text-align: right;\n",
       "    }\n",
       "</style>\n",
       "<table border=\"1\" class=\"dataframe\">\n",
       "  <thead>\n",
       "    <tr style=\"text-align: right;\">\n",
       "      <th></th>\n",
       "      <th>id</th>\n",
       "      <th>gene</th>\n",
       "      <th>database</th>\n",
       "      <th>cycle</th>\n",
       "      <th>cycle2</th>\n",
       "      <th>cycle3</th>\n",
       "    </tr>\n",
       "  </thead>\n",
       "  <tbody>\n",
       "    <tr>\n",
       "      <th>0</th>\n",
       "      <td>E2D8J4</td>\n",
       "      <td>amoA_A</td>\n",
       "      <td>NaN</td>\n",
       "      <td>nocycle</td>\n",
       "      <td>nocycle</td>\n",
       "      <td>nocycle</td>\n",
       "    </tr>\n",
       "    <tr>\n",
       "      <th>1</th>\n",
       "      <td>E2J812</td>\n",
       "      <td>amoA_A</td>\n",
       "      <td>NaN</td>\n",
       "      <td>nocycle</td>\n",
       "      <td>nocycle</td>\n",
       "      <td>nocycle</td>\n",
       "    </tr>\n",
       "    <tr>\n",
       "      <th>2</th>\n",
       "      <td>T1YY48</td>\n",
       "      <td>amoA_A</td>\n",
       "      <td>NaN</td>\n",
       "      <td>nocycle</td>\n",
       "      <td>nocycle</td>\n",
       "      <td>nocycle</td>\n",
       "    </tr>\n",
       "    <tr>\n",
       "      <th>3</th>\n",
       "      <td>T1W3U1</td>\n",
       "      <td>amoA_A</td>\n",
       "      <td>NaN</td>\n",
       "      <td>nocycle</td>\n",
       "      <td>nocycle</td>\n",
       "      <td>nocycle</td>\n",
       "    </tr>\n",
       "    <tr>\n",
       "      <th>4</th>\n",
       "      <td>D4NXK9</td>\n",
       "      <td>amoA_A</td>\n",
       "      <td>NaN</td>\n",
       "      <td>nocycle</td>\n",
       "      <td>nocycle</td>\n",
       "      <td>nocycle</td>\n",
       "    </tr>\n",
       "    <tr>\n",
       "      <th>...</th>\n",
       "      <td>...</td>\n",
       "      <td>...</td>\n",
       "      <td>...</td>\n",
       "      <td>...</td>\n",
       "      <td>...</td>\n",
       "      <td>...</td>\n",
       "    </tr>\n",
       "    <tr>\n",
       "      <th>318455</th>\n",
       "      <td>afb5a4070d7c2fafd5821990ec3a1db1</td>\n",
       "      <td>ureC</td>\n",
       "      <td>NaN</td>\n",
       "      <td>nocycle</td>\n",
       "      <td>nocycle</td>\n",
       "      <td>nocycle</td>\n",
       "    </tr>\n",
       "    <tr>\n",
       "      <th>318456</th>\n",
       "      <td>4f803eee0f219da20503941d50992220</td>\n",
       "      <td>ureC</td>\n",
       "      <td>NaN</td>\n",
       "      <td>nocycle</td>\n",
       "      <td>nocycle</td>\n",
       "      <td>nocycle</td>\n",
       "    </tr>\n",
       "    <tr>\n",
       "      <th>318457</th>\n",
       "      <td>85f4ea9a95dd893ee1e142f84dcd7194</td>\n",
       "      <td>ureC</td>\n",
       "      <td>NaN</td>\n",
       "      <td>nocycle</td>\n",
       "      <td>nocycle</td>\n",
       "      <td>nocycle</td>\n",
       "    </tr>\n",
       "    <tr>\n",
       "      <th>318458</th>\n",
       "      <td>19c71646f561c5343cca44c89d3893a0</td>\n",
       "      <td>ureC</td>\n",
       "      <td>NaN</td>\n",
       "      <td>nocycle</td>\n",
       "      <td>nocycle</td>\n",
       "      <td>nocycle</td>\n",
       "    </tr>\n",
       "    <tr>\n",
       "      <th>318459</th>\n",
       "      <td>be19695fdc99e68717dd03df66f2090f</td>\n",
       "      <td>ureC</td>\n",
       "      <td>NaN</td>\n",
       "      <td>nocycle</td>\n",
       "      <td>nocycle</td>\n",
       "      <td>nocycle</td>\n",
       "    </tr>\n",
       "  </tbody>\n",
       "</table>\n",
       "<p>318460 rows × 6 columns</p>\n",
       "</div>"
      ],
      "text/plain": [
       "                                      id    gene  database    cycle   cycle2  \\\n",
       "0                                 E2D8J4  amoA_A       NaN  nocycle  nocycle   \n",
       "1                                 E2J812  amoA_A       NaN  nocycle  nocycle   \n",
       "2                                 T1YY48  amoA_A       NaN  nocycle  nocycle   \n",
       "3                                 T1W3U1  amoA_A       NaN  nocycle  nocycle   \n",
       "4                                 D4NXK9  amoA_A       NaN  nocycle  nocycle   \n",
       "...                                  ...     ...       ...      ...      ...   \n",
       "318455  afb5a4070d7c2fafd5821990ec3a1db1    ureC       NaN  nocycle  nocycle   \n",
       "318456  4f803eee0f219da20503941d50992220    ureC       NaN  nocycle  nocycle   \n",
       "318457  85f4ea9a95dd893ee1e142f84dcd7194    ureC       NaN  nocycle  nocycle   \n",
       "318458  19c71646f561c5343cca44c89d3893a0    ureC       NaN  nocycle  nocycle   \n",
       "318459  be19695fdc99e68717dd03df66f2090f    ureC       NaN  nocycle  nocycle   \n",
       "\n",
       "         cycle3  \n",
       "0       nocycle  \n",
       "1       nocycle  \n",
       "2       nocycle  \n",
       "3       nocycle  \n",
       "4       nocycle  \n",
       "...         ...  \n",
       "318455  nocycle  \n",
       "318456  nocycle  \n",
       "318457  nocycle  \n",
       "318458  nocycle  \n",
       "318459  nocycle  \n",
       "\n",
       "[318460 rows x 6 columns]"
      ]
     },
     "execution_count": 22,
     "metadata": {},
     "output_type": "execute_result"
    }
   ],
   "source": [
    "import numpy as np\n",
    "import pandas as pd\n",
    "\n",
    "metadata = pd.read_csv(\"../../cycdb_csv/metadata/metadata_filtered_ncyc.csv\")\n",
    "\n",
    "\n",
    "metadata[\"cycle\"] = \"nocycle\"\n",
    "metadata[\"cycle2\"] = \"nocycle\"\n",
    "metadata[\"cycle3\"] = \"nocycle\"\n",
    "\n",
    "metadata"
   ]
  },
  {
   "cell_type": "code",
   "execution_count": 23,
   "id": "76da379f",
   "metadata": {},
   "outputs": [
    {
     "name": "stdout",
     "output_type": "stream",
     "text": [
      "1\n",
      "2\n",
      "3\n",
      "4\n",
      "5\n",
      "6\n",
      "7\n",
      "8\n",
      "                                      id    gene  database          cycle  \\\n",
      "0                                 E2D8J4  amoA_A       NaN  nitrification   \n",
      "1                                 E2J812  amoA_A       NaN  nitrification   \n",
      "2                                 T1YY48  amoA_A       NaN  nitrification   \n",
      "3                                 T1W3U1  amoA_A       NaN  nitrification   \n",
      "4                                 D4NXK9  amoA_A       NaN  nitrification   \n",
      "...                                  ...     ...       ...            ...   \n",
      "318455  afb5a4070d7c2fafd5821990ec3a1db1    ureC       NaN        odegsyn   \n",
      "318456  4f803eee0f219da20503941d50992220    ureC       NaN        odegsyn   \n",
      "318457  85f4ea9a95dd893ee1e142f84dcd7194    ureC       NaN        odegsyn   \n",
      "318458  19c71646f561c5343cca44c89d3893a0    ureC       NaN        odegsyn   \n",
      "318459  be19695fdc99e68717dd03df66f2090f    ureC       NaN        odegsyn   \n",
      "\n",
      "         cycle2   cycle3  \n",
      "0       nocycle  nocycle  \n",
      "1       nocycle  nocycle  \n",
      "2       nocycle  nocycle  \n",
      "3       nocycle  nocycle  \n",
      "4       nocycle  nocycle  \n",
      "...         ...      ...  \n",
      "318455  nocycle  nocycle  \n",
      "318456  nocycle  nocycle  \n",
      "318457  nocycle  nocycle  \n",
      "318458  nocycle  nocycle  \n",
      "318459  nocycle  nocycle  \n",
      "\n",
      "[318460 rows x 6 columns]\n"
     ]
    }
   ],
   "source": [
    "counter = 0\n",
    "\n",
    "for value in cycle_dict: \n",
    "    for value2 in cycle_dict[value]: \n",
    "            metadata.loc[(metadata[\"gene\"] == value2) & (metadata['cycle'] == \"nocycle\"), 'cycle'] = value\n",
    "            metadata.loc[(metadata[\"gene\"] == value2) & (metadata['cycle'] != value), 'cycle2'] = value\n",
    "            metadata.loc[(metadata[\"gene\"] == value2) & (metadata['cycle'] != value) & (metadata['cycle2'] != value), 'cycle3'] = value\n",
    "\n",
    "\n",
    "    counter += 1\n",
    "    print(counter)\n",
    "print(metadata)"
   ]
  },
  {
   "cell_type": "code",
   "execution_count": 24,
   "id": "39d33e7f",
   "metadata": {},
   "outputs": [],
   "source": [
    "metadata.to_csv(\"../../cycdb_csv/metadata_with_pathways/grouped_metadata_multigroups_ncyc.csv\")"
   ]
  }
 ],
 "metadata": {
  "kernelspec": {
   "display_name": "metaphor",
   "language": "python",
   "name": "python3"
  },
  "language_info": {
   "codemirror_mode": {
    "name": "ipython",
    "version": 3
   },
   "file_extension": ".py",
   "mimetype": "text/x-python",
   "name": "python",
   "nbconvert_exporter": "python",
   "pygments_lexer": "ipython3",
   "version": "3.11.7"
  }
 },
 "nbformat": 4,
 "nbformat_minor": 5
}
