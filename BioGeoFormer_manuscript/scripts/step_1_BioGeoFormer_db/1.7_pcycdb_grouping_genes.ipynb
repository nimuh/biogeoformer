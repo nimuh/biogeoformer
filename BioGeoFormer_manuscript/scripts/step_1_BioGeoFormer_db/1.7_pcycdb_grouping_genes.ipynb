{
 "cells": [
  {
   "cell_type": "code",
   "execution_count": 1,
   "id": "d2b2f282",
   "metadata": {},
   "outputs": [
    {
     "name": "stdout",
     "output_type": "stream",
     "text": [
      "this string is a dup!:ushA\n",
      "this string is a dup!:ndk\n"
     ]
    }
   ],
   "source": [
    "gene_list_all = [\"pps\",\"ppdK\", \"pyk\", \"pckG\", \"ppc\",\"pckA\",\"gdh\",\n",
    "\"gcd\",\"gnl\", \"gntK\",\"gnd\",\"rpiA\",\"prsA\",\"deoB\", \"ptsI\", \"ptsH\",\"ppk\",\n",
    "\"ppa\",\"pepM\",\"pphA\", \"ppd\",\"phnX\",\"fomC\",\"phpC\", \"mpnS\",\"phnG\",\n",
    "\"phnH\",\"phnI\",\"phnK\",\"phnL\",\"phnM\",\"phnJ\",\"phnP\",\"phnN\",\"phnPP\",\n",
    "\"phny\",\"phnA\",\"phnW\",\"phnO\",\"pbfA\",\"phnY\",\"phnZ\",\"phoU\",\"phoR\",\"phoB\",\n",
    "\"phoP\",\"SenX3\",\"RegX3\",\"pgtC\",\"pgtB\",\"pgtA\",\"pgtP\",\"pstS\",\"pstC\",\n",
    "\"pstA\",\"pstB\",\"pit\",\"htxB\",\"ptxA\",\"ptxB\",\"ptxC\",\"phnD_phosphite\",\n",
    "\"phnD\",\"phnE\",\"phnC\",\"ugpB\",\"ugpA\",\"ugpE\",\"ugpC\",\"phnS\",\"phnV\",\n",
    "\"phnU\",\"phnT\",\"glpT\",\"aepX\",\"aepV\",\"aepW\",\"aepP\",\"aepS\",\"opd\",\n",
    "\"pafA\",\"phoA\",\"phoD\",\"phoX\",\"phoN\",\"aphA\",\"phoC\",\"olpA\",\"phy\",\n",
    "\"appA\",\"ugpQ\",\"glpQ\",\"htxA\",\"ptxD\",\"lysR\",\"phnR\",\"phnF\",\"phoH\",\n",
    "\"purF\",\"purD\",\"purN\",\"purT\",\"purL\",\"purS\",\"purQ\",\"purM\",\"purK\",\n",
    "\"purE\",\"ADE2\",\"purC\",\"purB\",\"purH\",\"purP\",\"purO\",\"guaB\",\"guaA\",\n",
    "\"gmk\",\"ushA\",\"ndk\",\"spoT\",\"ppx\",\"purA\",\"adk\",\"pyrE\",\"pyrF\",\n",
    "\"ushA\",\"cmk\",\"pyrH\",\"ndk\",\"pyrG\",\"rtpR\",\"nrdD\",\"nrdA\",\"nrdE\",\n",
    "\"nrdB\",\"nrdF\",\"nrdJ\",\"dcd\",\"dut\",\"thyA\",\"tmk\"\n",
    "\n",
    "            ]\n",
    "\n",
    "unique_strings = []\n",
    "\n",
    "for string in gene_list_all: \n",
    "    if string not in unique_strings: \n",
    "        unique_strings.append(string)\n",
    "    else: \n",
    "        print(\"this string is a dup!:\" + string)\n",
    "        \n",
    "\n"
   ]
  },
  {
   "cell_type": "code",
   "execution_count": 2,
   "id": "1561c064",
   "metadata": {},
   "outputs": [],
   "source": [
    "#pyruvate metabolism"
   ]
  },
  {
   "cell_type": "code",
   "execution_count": 2,
   "id": "7b664ca8",
   "metadata": {},
   "outputs": [
    {
     "name": "stdout",
     "output_type": "stream",
     "text": [
      "['pps', 'ppdK', 'pyk', 'pckG', 'ppc', 'pckA']\n"
     ]
    }
   ],
   "source": [
    "gene_list = [\"pps\",\"ppdK\", \"pyk\", \"pckG\", \"ppc\",\"pckA\"]\n",
    "\n",
    "pyruvate = []\n",
    "cycle_dict = {}\n",
    "\n",
    "for gene in gene_list: \n",
    "  pyruvate.append(gene)\n",
    "    \n",
    "cycle_dict[\"pyruvate\"] = pyruvate\n",
    "    \n",
    "print(pyruvate)"
   ]
  },
  {
   "cell_type": "code",
   "execution_count": 4,
   "id": "b4422d2c",
   "metadata": {},
   "outputs": [],
   "source": [
    "#pentose phosphate pathway "
   ]
  },
  {
   "cell_type": "code",
   "execution_count": 3,
   "id": "485578e2",
   "metadata": {},
   "outputs": [
    {
     "name": "stdout",
     "output_type": "stream",
     "text": [
      "['gdh', 'gcd', 'gnl', 'gntK', 'gnd', 'rpiA', 'prsA', 'deoB']\n"
     ]
    }
   ],
   "source": [
    "gene_list = [\"gdh\",\n",
    "             \"gcd\",\"gnl\", \"gntK\",\"gnd\",\"rpiA\",\"prsA\",\"deoB\"]\n",
    "\n",
    "pentose = []\n",
    "\n",
    "for gene in gene_list: \n",
    "  pentose.append(gene)\n",
    "    \n",
    "cycle_dict[\"pentose\"] = pentose\n",
    "    \n",
    "print(pentose)"
   ]
  },
  {
   "cell_type": "code",
   "execution_count": 6,
   "id": "bbcf7a52",
   "metadata": {},
   "outputs": [],
   "source": [
    "#phosphotransferase system"
   ]
  },
  {
   "cell_type": "code",
   "execution_count": 4,
   "id": "2e48a362",
   "metadata": {},
   "outputs": [
    {
     "name": "stdout",
     "output_type": "stream",
     "text": [
      "['ptsI', 'ptsH']\n"
     ]
    }
   ],
   "source": [
    "gene_list = [\"ptsI\", \"ptsH\"]\n",
    "\n",
    "phosphotransferase = []\n",
    "\n",
    "for gene in gene_list: \n",
    "  phosphotransferase.append(gene)\n",
    "    \n",
    "cycle_dict[\"phosphotransferase\"] = phosphotransferase\n",
    "    \n",
    "print(phosphotransferase)"
   ]
  },
  {
   "cell_type": "code",
   "execution_count": 5,
   "id": "b6a677b5",
   "metadata": {},
   "outputs": [
    {
     "name": "stdout",
     "output_type": "stream",
     "text": [
      "['ppk', 'ppa']\n"
     ]
    }
   ],
   "source": [
    "gene_list = [\"ppk\",\"ppa\"]\n",
    "\n",
    "ox_phosphorylation = []\n",
    "\n",
    "for gene in gene_list: \n",
    "  ox_phosphorylation.append(gene)\n",
    "    \n",
    "cycle_dict[\"ox_phosphorylation\"] = ox_phosphorylation\n",
    "    \n",
    "print(ox_phosphorylation)"
   ]
  },
  {
   "cell_type": "code",
   "execution_count": 6,
   "id": "b1e1a7ed",
   "metadata": {},
   "outputs": [
    {
     "name": "stdout",
     "output_type": "stream",
     "text": [
      "['ppk', 'ppa']\n"
     ]
    }
   ],
   "source": [
    "gene_list = [\"ppk\",\"ppa\"]\n",
    "\n",
    "ox_phosphorylation = []\n",
    "\n",
    "for gene in gene_list: \n",
    "  ox_phosphorylation.append(gene)\n",
    "    \n",
    "cycle_dict[\"ox_phosphorylation\"] = ox_phosphorylation\n",
    "    \n",
    "print(ox_phosphorylation)"
   ]
  },
  {
   "cell_type": "code",
   "execution_count": 10,
   "id": "7151498e",
   "metadata": {},
   "outputs": [],
   "source": [
    "#phosphonate and phosphinate metabolism"
   ]
  },
  {
   "cell_type": "code",
   "execution_count": 7,
   "id": "f9fff106",
   "metadata": {},
   "outputs": [
    {
     "name": "stdout",
     "output_type": "stream",
     "text": [
      "['pepM', 'pphA', 'ppd', 'phnX', 'fomC', 'phpC', 'mpnS', 'phnG', 'phnH', 'phnI', 'phnK', 'phnL', 'phnM', 'phnJ', 'phnP', 'phnN', 'phnPP', 'phny', 'phnA', 'phnW', 'phnO', 'pbfA', 'phnY', 'phnZ']\n"
     ]
    }
   ],
   "source": [
    "gene_list = [\"pepM\",\"pphA\", \"ppd\",\"phnX\",\"fomC\",\"phpC\", \"mpnS\",\"phnG\",\n",
    "\"phnH\",\"phnI\",\"phnK\",\"phnL\",\"phnM\",\"phnJ\",\"phnP\",\"phnN\",\"phnPP\",\n",
    "\"phny\",\"phnA\",\"phnW\",\"phnO\",\"pbfA\",\"phnY\",\"phnZ\"]\n",
    "\n",
    "phosph_met = []\n",
    "\n",
    "for gene in gene_list: \n",
    "  phosph_met.append(gene)\n",
    "    \n",
    "cycle_dict[\"phosph_met\"] = phosph_met\n",
    "    \n",
    "print(phosph_met)"
   ]
  },
  {
   "cell_type": "code",
   "execution_count": 12,
   "id": "0c86d4d7",
   "metadata": {},
   "outputs": [],
   "source": [
    "#two-component system"
   ]
  },
  {
   "cell_type": "code",
   "execution_count": 8,
   "id": "1bec61ee",
   "metadata": {},
   "outputs": [
    {
     "name": "stdout",
     "output_type": "stream",
     "text": [
      "['phoU', 'phoR', 'phoB', 'phoP', 'SenX3', 'RegX3', 'pgtC', 'pgtB', 'pgtA']\n"
     ]
    }
   ],
   "source": [
    "gene_list = [\"phoU\",\"phoR\",\"phoB\",\n",
    "\"phoP\",\"SenX3\",\"RegX3\",\"pgtC\",\"pgtB\",\"pgtA\"]\n",
    "\n",
    "two_comp = []\n",
    "\n",
    "for gene in gene_list: \n",
    "  two_comp.append(gene)\n",
    "    \n",
    "cycle_dict[\"two_comp\"] = two_comp\n",
    "    \n",
    "print(two_comp)"
   ]
  },
  {
   "cell_type": "code",
   "execution_count": 14,
   "id": "135288a3",
   "metadata": {},
   "outputs": [],
   "source": [
    "#transporters"
   ]
  },
  {
   "cell_type": "code",
   "execution_count": 9,
   "id": "1c67b50f",
   "metadata": {},
   "outputs": [
    {
     "name": "stdout",
     "output_type": "stream",
     "text": [
      "['pgtP', 'pstS', 'pstC', 'pstA', 'pstB', 'pit', 'htxB', 'ptxA', 'ptxB', 'ptxC', 'phnD_phosphite', 'phnD', 'phnE', 'phnC', 'ugpB', 'ugpA', 'ugpE', 'ugpC', 'phnS', 'phnV', 'phnU', 'phnT', 'glpT', 'aepX', 'aepV', 'aepW', 'aepP', 'aepS']\n"
     ]
    }
   ],
   "source": [
    "gene_list = [\"pgtP\",\"pstS\",\"pstC\",\n",
    "\"pstA\",\"pstB\",\"pit\",\"htxB\",\"ptxA\",\"ptxB\",\"ptxC\",\"phnD_phosphite\",\n",
    "\"phnD\",\"phnE\",\"phnC\",\"ugpB\",\"ugpA\",\"ugpE\",\"ugpC\",\"phnS\",\"phnV\",\n",
    "\"phnU\",\"phnT\",\"glpT\",\"aepX\",\"aepV\",\"aepW\",\"aepP\",\"aepS\"]\n",
    "\n",
    "transporters = []\n",
    "\n",
    "for gene in gene_list: \n",
    "  transporters.append(gene)\n",
    "    \n",
    "cycle_dict[\"transporters\"] = transporters\n",
    "    \n",
    "print(transporters)"
   ]
  },
  {
   "cell_type": "code",
   "execution_count": 16,
   "id": "4a87621d",
   "metadata": {},
   "outputs": [],
   "source": [
    "#organic phosphoester hydrolysis"
   ]
  },
  {
   "cell_type": "code",
   "execution_count": 10,
   "id": "caa2389f",
   "metadata": {},
   "outputs": [
    {
     "name": "stdout",
     "output_type": "stream",
     "text": [
      "['opd', 'pafA', 'phoA', 'phoD', 'phoX', 'phoN', 'aphA', 'phoC', 'olpA', 'phy', 'appA', 'ugpQ', 'glpQ']\n"
     ]
    }
   ],
   "source": [
    "gene_list = [\"opd\",\n",
    "\"pafA\",\"phoA\",\"phoD\",\"phoX\",\"phoN\",\"aphA\",\"phoC\",\"olpA\",\"phy\",\n",
    "\"appA\",\"ugpQ\",\"glpQ\"]\n",
    "\n",
    "org_phos_hyd = []\n",
    "\n",
    "for gene in gene_list: \n",
    "  org_phos_hyd.append(gene)\n",
    "    \n",
    "cycle_dict[\"org_phos_hyd\"] = org_phos_hyd\n",
    "    \n",
    "print(org_phos_hyd)"
   ]
  },
  {
   "cell_type": "code",
   "execution_count": 18,
   "id": "09b20ff5",
   "metadata": {},
   "outputs": [],
   "source": [
    "#phosphorous others"
   ]
  },
  {
   "cell_type": "code",
   "execution_count": 11,
   "id": "20245e84",
   "metadata": {},
   "outputs": [
    {
     "name": "stdout",
     "output_type": "stream",
     "text": [
      "['htxA', 'ptxD', 'lysR', 'phnR', 'phnF', 'phoH']\n"
     ]
    }
   ],
   "source": [
    "gene_list = [\"htxA\",\"ptxD\",\"lysR\",\"phnR\",\"phnF\",\"phoH\"]\n",
    "\n",
    "phos_other = []\n",
    "\n",
    "for gene in gene_list: \n",
    "  phos_other.append(gene)\n",
    "    \n",
    "cycle_dict[\"phos_other\"] = phos_other\n",
    "    \n",
    "print(phos_other)"
   ]
  },
  {
   "cell_type": "code",
   "execution_count": 20,
   "id": "2c5dc50d",
   "metadata": {},
   "outputs": [],
   "source": [
    "#purine metabolism"
   ]
  },
  {
   "cell_type": "code",
   "execution_count": 12,
   "id": "a29e995d",
   "metadata": {},
   "outputs": [
    {
     "name": "stdout",
     "output_type": "stream",
     "text": [
      "['purF', 'purD', 'purN', 'purT', 'purL', 'purS', 'purQ', 'purM', 'purK', 'purE', 'ADE2', 'purC', 'purB', 'purH', 'purP', 'purO', 'guaB', 'guaA', 'gmk', 'ushA', 'ndk', 'spoT', 'ppx', 'purA', 'adk']\n"
     ]
    }
   ],
   "source": [
    "gene_list = [\"purF\",\"purD\",\"purN\",\"purT\",\"purL\",\"purS\",\"purQ\",\"purM\",\"purK\",\n",
    "\"purE\",\"ADE2\",\"purC\",\"purB\",\"purH\",\"purP\",\"purO\",\"guaB\",\"guaA\",\n",
    "\"gmk\",\"ushA\",\"ndk\",\"spoT\",\"ppx\",\"purA\",\"adk\"]\n",
    "\n",
    "purine = []\n",
    "\n",
    "for gene in gene_list: \n",
    "  purine.append(gene)\n",
    "    \n",
    "cycle_dict[\"purine\"] = purine\n",
    "    \n",
    "print(purine)"
   ]
  },
  {
   "cell_type": "code",
   "execution_count": 22,
   "id": "bd4daf7e",
   "metadata": {},
   "outputs": [],
   "source": [
    "#pyrimidine metabolism"
   ]
  },
  {
   "cell_type": "code",
   "execution_count": 13,
   "id": "4502720f",
   "metadata": {},
   "outputs": [
    {
     "name": "stdout",
     "output_type": "stream",
     "text": [
      "['pyrE', 'pyrF', 'ushA', 'cmk', 'pyrH', 'ndk', 'pyrG', 'rtpR', 'nrdD', 'nrdA', 'nrdE', 'nrdB', 'nrdF', 'nrdJ', 'dcd', 'dut', 'thyA', 'tmk']\n"
     ]
    }
   ],
   "source": [
    "gene_list = [\"pyrE\",\"pyrF\",\n",
    "\"ushA\",\"cmk\",\"pyrH\",\"ndk\",\"pyrG\",\"rtpR\",\"nrdD\",\"nrdA\",\"nrdE\",\n",
    "\"nrdB\",\"nrdF\",\"nrdJ\",\"dcd\",\"dut\",\"thyA\",\"tmk\"]\n",
    "\n",
    "pyrimidine = []\n",
    "\n",
    "for gene in gene_list: \n",
    "  pyrimidine.append(gene)\n",
    "    \n",
    "cycle_dict[\"pyrimidine\"] = pyrimidine\n",
    "    \n",
    "print(pyrimidine)"
   ]
  },
  {
   "cell_type": "code",
   "execution_count": 14,
   "id": "a0367c64",
   "metadata": {},
   "outputs": [
    {
     "name": "stdout",
     "output_type": "stream",
     "text": [
      "pyruvate\n",
      "pps\n",
      "ppdK\n",
      "pyk\n",
      "pckG\n",
      "ppc\n",
      "pckA\n",
      "pentose\n",
      "gdh\n",
      "gcd\n",
      "gnl\n",
      "gntK\n",
      "gnd\n",
      "rpiA\n",
      "prsA\n",
      "deoB\n",
      "phosphotransferase\n",
      "ptsI\n",
      "ptsH\n",
      "ox_phosphorylation\n",
      "ppk\n",
      "ppa\n",
      "phosph_met\n",
      "pepM\n",
      "pphA\n",
      "ppd\n",
      "phnX\n",
      "fomC\n",
      "phpC\n",
      "mpnS\n",
      "phnG\n",
      "phnH\n",
      "phnI\n",
      "phnK\n",
      "phnL\n",
      "phnM\n",
      "phnJ\n",
      "phnP\n",
      "phnN\n",
      "phnPP\n",
      "phny\n",
      "phnA\n",
      "phnW\n",
      "phnO\n",
      "pbfA\n",
      "phnY\n",
      "phnZ\n",
      "two_comp\n",
      "phoU\n",
      "phoR\n",
      "phoB\n",
      "phoP\n",
      "SenX3\n",
      "RegX3\n",
      "pgtC\n",
      "pgtB\n",
      "pgtA\n",
      "transporters\n",
      "pgtP\n",
      "pstS\n",
      "pstC\n",
      "pstA\n",
      "pstB\n",
      "pit\n",
      "htxB\n",
      "ptxA\n",
      "ptxB\n",
      "ptxC\n",
      "phnD_phosphite\n",
      "phnD\n",
      "phnE\n",
      "phnC\n",
      "ugpB\n",
      "ugpA\n",
      "ugpE\n",
      "ugpC\n",
      "phnS\n",
      "phnV\n",
      "phnU\n",
      "phnT\n",
      "glpT\n",
      "aepX\n",
      "aepV\n",
      "aepW\n",
      "aepP\n",
      "aepS\n",
      "org_phos_hyd\n",
      "opd\n",
      "pafA\n",
      "phoA\n",
      "phoD\n",
      "phoX\n",
      "phoN\n",
      "aphA\n",
      "phoC\n",
      "olpA\n",
      "phy\n",
      "appA\n",
      "ugpQ\n",
      "glpQ\n",
      "phos_other\n",
      "htxA\n",
      "ptxD\n",
      "lysR\n",
      "phnR\n",
      "phnF\n",
      "phoH\n",
      "purine\n",
      "purF\n",
      "purD\n",
      "purN\n",
      "purT\n",
      "purL\n",
      "purS\n",
      "purQ\n",
      "purM\n",
      "purK\n",
      "purE\n",
      "ADE2\n",
      "purC\n",
      "purB\n",
      "purH\n",
      "purP\n",
      "purO\n",
      "guaB\n",
      "guaA\n",
      "gmk\n",
      "ushA\n",
      "ndk\n",
      "spoT\n",
      "ppx\n",
      "purA\n",
      "adk\n",
      "pyrimidine\n",
      "pyrE\n",
      "pyrF\n",
      "ushA\n",
      "cmk\n",
      "pyrH\n",
      "ndk\n",
      "pyrG\n",
      "rtpR\n",
      "nrdD\n",
      "nrdA\n",
      "nrdE\n",
      "nrdB\n",
      "nrdF\n",
      "nrdJ\n",
      "dcd\n",
      "dut\n",
      "thyA\n",
      "tmk\n"
     ]
    }
   ],
   "source": [
    "for value in cycle_dict: \n",
    "    print(value)\n",
    "    for value2 in cycle_dict[value]: \n",
    "        print(value2)"
   ]
  },
  {
   "cell_type": "code",
   "execution_count": 15,
   "id": "2bb0b668",
   "metadata": {},
   "outputs": [],
   "source": [
    "import os\n",
    "from pathlib import Path\n",
    "\n",
    "# Get the current notebook's directory\n",
    "notebook_dir = Path(os.getcwd())\n",
    "\n",
    "\n",
    "output_dir = notebook_dir / 'cycle_dicts'\n",
    "output_dir.mkdir(exist_ok=True)  # create folder if it doesn’t exist\n",
    "\n",
    "# Write your files\n",
    "with open(output_dir / '../../../cycle_dicts/cycle_dict_pcyc.txt', 'w') as f:\n",
    "    print(cycle_dict, file=f)\n",
    "\n",
    "import json\n",
    "with open(output_dir / '../../../cycle_dicts/cycle_dict_pcyc.json', 'w') as fp:\n",
    "    json.dump(cycle_dict, fp)\n"
   ]
  },
  {
   "cell_type": "code",
   "execution_count": 16,
   "id": "15250709",
   "metadata": {},
   "outputs": [
    {
     "name": "stdout",
     "output_type": "stream",
     "text": [
      "pyruvate\n",
      "pentose\n",
      "phosphotransferase\n",
      "ox_phosphorylation\n",
      "phosph_met\n",
      "two_comp\n",
      "transporters\n",
      "org_phos_hyd\n",
      "phos_other\n",
      "purine\n",
      "pyrimidine\n"
     ]
    }
   ],
   "source": [
    "for value in cycle_dict: \n",
    "    print(value)"
   ]
  },
  {
   "cell_type": "code",
   "execution_count": 17,
   "id": "13b8a98b",
   "metadata": {},
   "outputs": [
    {
     "data": {
      "text/html": [
       "<div>\n",
       "<style scoped>\n",
       "    .dataframe tbody tr th:only-of-type {\n",
       "        vertical-align: middle;\n",
       "    }\n",
       "\n",
       "    .dataframe tbody tr th {\n",
       "        vertical-align: top;\n",
       "    }\n",
       "\n",
       "    .dataframe thead th {\n",
       "        text-align: right;\n",
       "    }\n",
       "</style>\n",
       "<table border=\"1\" class=\"dataframe\">\n",
       "  <thead>\n",
       "    <tr style=\"text-align: right;\">\n",
       "      <th></th>\n",
       "      <th>id</th>\n",
       "      <th>gene</th>\n",
       "      <th>database</th>\n",
       "      <th>cycle</th>\n",
       "      <th>cycle2</th>\n",
       "      <th>cycle3</th>\n",
       "    </tr>\n",
       "  </thead>\n",
       "  <tbody>\n",
       "    <tr>\n",
       "      <th>0</th>\n",
       "      <td>521169598</td>\n",
       "      <td>lysR</td>\n",
       "      <td>COG</td>\n",
       "      <td>nocycle</td>\n",
       "      <td>nocycle</td>\n",
       "      <td>nocycle</td>\n",
       "    </tr>\n",
       "    <tr>\n",
       "      <th>1</th>\n",
       "      <td>260599187</td>\n",
       "      <td>lysR</td>\n",
       "      <td>COG</td>\n",
       "      <td>nocycle</td>\n",
       "      <td>nocycle</td>\n",
       "      <td>nocycle</td>\n",
       "    </tr>\n",
       "    <tr>\n",
       "      <th>2</th>\n",
       "      <td>560158809</td>\n",
       "      <td>lysR</td>\n",
       "      <td>COG</td>\n",
       "      <td>nocycle</td>\n",
       "      <td>nocycle</td>\n",
       "      <td>nocycle</td>\n",
       "    </tr>\n",
       "    <tr>\n",
       "      <th>3</th>\n",
       "      <td>15832950</td>\n",
       "      <td>lysR</td>\n",
       "      <td>COG</td>\n",
       "      <td>nocycle</td>\n",
       "      <td>nocycle</td>\n",
       "      <td>nocycle</td>\n",
       "    </tr>\n",
       "    <tr>\n",
       "      <th>4</th>\n",
       "      <td>296104502</td>\n",
       "      <td>lysR</td>\n",
       "      <td>COG</td>\n",
       "      <td>nocycle</td>\n",
       "      <td>nocycle</td>\n",
       "      <td>nocycle</td>\n",
       "    </tr>\n",
       "    <tr>\n",
       "      <th>...</th>\n",
       "      <td>...</td>\n",
       "      <td>...</td>\n",
       "      <td>...</td>\n",
       "      <td>...</td>\n",
       "      <td>...</td>\n",
       "      <td>...</td>\n",
       "    </tr>\n",
       "    <tr>\n",
       "      <th>862780</th>\n",
       "      <td>A0A2K7SY32</td>\n",
       "      <td>ushA</td>\n",
       "      <td>UniProt</td>\n",
       "      <td>nocycle</td>\n",
       "      <td>nocycle</td>\n",
       "      <td>nocycle</td>\n",
       "    </tr>\n",
       "    <tr>\n",
       "      <th>862781</th>\n",
       "      <td>A0A3W0MFY3</td>\n",
       "      <td>ushA</td>\n",
       "      <td>UniProt</td>\n",
       "      <td>nocycle</td>\n",
       "      <td>nocycle</td>\n",
       "      <td>nocycle</td>\n",
       "    </tr>\n",
       "    <tr>\n",
       "      <th>862782</th>\n",
       "      <td>A0A379SBL5</td>\n",
       "      <td>ushA</td>\n",
       "      <td>UniProt</td>\n",
       "      <td>nocycle</td>\n",
       "      <td>nocycle</td>\n",
       "      <td>nocycle</td>\n",
       "    </tr>\n",
       "    <tr>\n",
       "      <th>862783</th>\n",
       "      <td>A0A2S8QSL9</td>\n",
       "      <td>ushA</td>\n",
       "      <td>UniProt</td>\n",
       "      <td>nocycle</td>\n",
       "      <td>nocycle</td>\n",
       "      <td>nocycle</td>\n",
       "    </tr>\n",
       "    <tr>\n",
       "      <th>862784</th>\n",
       "      <td>A0A8B3FAC1</td>\n",
       "      <td>ushA</td>\n",
       "      <td>UniProt</td>\n",
       "      <td>nocycle</td>\n",
       "      <td>nocycle</td>\n",
       "      <td>nocycle</td>\n",
       "    </tr>\n",
       "  </tbody>\n",
       "</table>\n",
       "<p>862785 rows × 6 columns</p>\n",
       "</div>"
      ],
      "text/plain": [
       "                id  gene database    cycle   cycle2   cycle3\n",
       "0        521169598  lysR      COG  nocycle  nocycle  nocycle\n",
       "1        260599187  lysR      COG  nocycle  nocycle  nocycle\n",
       "2        560158809  lysR      COG  nocycle  nocycle  nocycle\n",
       "3         15832950  lysR      COG  nocycle  nocycle  nocycle\n",
       "4        296104502  lysR      COG  nocycle  nocycle  nocycle\n",
       "...            ...   ...      ...      ...      ...      ...\n",
       "862780  A0A2K7SY32  ushA  UniProt  nocycle  nocycle  nocycle\n",
       "862781  A0A3W0MFY3  ushA  UniProt  nocycle  nocycle  nocycle\n",
       "862782  A0A379SBL5  ushA  UniProt  nocycle  nocycle  nocycle\n",
       "862783  A0A2S8QSL9  ushA  UniProt  nocycle  nocycle  nocycle\n",
       "862784  A0A8B3FAC1  ushA  UniProt  nocycle  nocycle  nocycle\n",
       "\n",
       "[862785 rows x 6 columns]"
      ]
     },
     "execution_count": 17,
     "metadata": {},
     "output_type": "execute_result"
    }
   ],
   "source": [
    "import numpy as np\n",
    "import pandas as pd\n",
    "\n",
    "metadata = pd.read_csv(\"../../cycdb_csv/metadata/metadata_filtered_pcycdb.csv\")\n",
    "\n",
    "metadata[\"cycle\"] = \"nocycle\"\n",
    "metadata[\"cycle2\"] = \"nocycle\"\n",
    "metadata[\"cycle3\"] = \"nocycle\"\n",
    "\n",
    "metadata\n"
   ]
  },
  {
   "cell_type": "code",
   "execution_count": 18,
   "id": "6447e55c",
   "metadata": {},
   "outputs": [
    {
     "name": "stdout",
     "output_type": "stream",
     "text": [
      "1\n",
      "2\n",
      "3\n",
      "4\n",
      "5\n",
      "6\n",
      "7\n",
      "8\n",
      "9\n",
      "10\n",
      "11\n",
      "                id  gene database       cycle      cycle2   cycle3\n",
      "0        521169598  lysR      COG  phos_other     nocycle  nocycle\n",
      "1        260599187  lysR      COG  phos_other     nocycle  nocycle\n",
      "2        560158809  lysR      COG  phos_other     nocycle  nocycle\n",
      "3         15832950  lysR      COG  phos_other     nocycle  nocycle\n",
      "4        296104502  lysR      COG  phos_other     nocycle  nocycle\n",
      "...            ...   ...      ...         ...         ...      ...\n",
      "862780  A0A2K7SY32  ushA  UniProt      purine  pyrimidine  nocycle\n",
      "862781  A0A3W0MFY3  ushA  UniProt      purine  pyrimidine  nocycle\n",
      "862782  A0A379SBL5  ushA  UniProt      purine  pyrimidine  nocycle\n",
      "862783  A0A2S8QSL9  ushA  UniProt      purine  pyrimidine  nocycle\n",
      "862784  A0A8B3FAC1  ushA  UniProt      purine  pyrimidine  nocycle\n",
      "\n",
      "[862785 rows x 6 columns]\n"
     ]
    }
   ],
   "source": [
    "counter = 0\n",
    "\n",
    "for value in cycle_dict: \n",
    "    for value2 in cycle_dict[value]: \n",
    "            metadata.loc[(metadata[\"gene\"] == value2) & (metadata['cycle'] == \"nocycle\"), 'cycle'] = value\n",
    "            metadata.loc[(metadata[\"gene\"] == value2) & (metadata['cycle'] != value), 'cycle2'] = value\n",
    "            metadata.loc[(metadata[\"gene\"] == value2) & (metadata['cycle'] != value) & (metadata['cycle2'] != value), 'cycle3'] = value\n",
    "\n",
    "\n",
    "    counter += 1\n",
    "    print(counter)\n",
    "print(metadata)"
   ]
  },
  {
   "cell_type": "code",
   "execution_count": 19,
   "id": "885d1574",
   "metadata": {},
   "outputs": [],
   "source": [
    "metadata.to_csv(\"../../cycdb_csv/metadata_with_pathways/grouped_metadata_multigroups_pcycdb.csv\")"
   ]
  }
 ],
 "metadata": {
  "kernelspec": {
   "display_name": "metaphor",
   "language": "python",
   "name": "python3"
  },
  "language_info": {
   "codemirror_mode": {
    "name": "ipython",
    "version": 3
   },
   "file_extension": ".py",
   "mimetype": "text/x-python",
   "name": "python",
   "nbconvert_exporter": "python",
   "pygments_lexer": "ipython3",
   "version": "3.11.7"
  }
 },
 "nbformat": 4,
 "nbformat_minor": 5
}
