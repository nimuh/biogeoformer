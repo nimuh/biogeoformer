{
 "cells": [
  {
   "cell_type": "code",
   "execution_count": 17,
   "id": "7c9d89e2",
   "metadata": {},
   "outputs": [
    {
     "name": "stdout",
     "output_type": "stream",
     "text": [
      "Working directory set to: /Users/wynne/Dropbox/BioGeoFormer/scripts/step_8_evaluating_models\n"
     ]
    }
   ],
   "source": [
    "import os\n",
    "from pathlib import Path\n",
    "\n",
    "try:\n",
    "    from IPython import get_ipython\n",
    "    ipynb_path = Path(get_ipython().run_line_magic('pwd', '')).resolve()\n",
    "except Exception:\n",
    "    ipynb_path = Path.cwd().resolve()\n",
    "\n",
    "os.chdir(ipynb_path)\n",
    "print(\"Working directory set to:\", os.getcwd())"
   ]
  },
  {
   "cell_type": "code",
   "execution_count": 13,
   "id": "a54d7650",
   "metadata": {},
   "outputs": [
    {
     "name": "stderr",
     "output_type": "stream",
     "text": [
      "/var/folders/2l/crnlqh8n15n8jrvnvrk7d_7m0000gn/T/ipykernel_54179/1099980827.py:46: DeprecationWarning: DataFrameGroupBy.apply operated on the grouping columns. This behavior is deprecated, and in a future version of pandas the grouping columns will be excluded from the operation. Either pass `include_groups=False` to exclude the groupings or explicitly select the grouping columns after groupby to silence this warning.\n",
      "  .apply(lambda g: pd.Series({\n"
     ]
    },
    {
     "name": "stdout",
     "output_type": "stream",
     "text": [
      "Saved plot: ../../results/figures/precision_confidence_split20.png\n"
     ]
    },
    {
     "name": "stderr",
     "output_type": "stream",
     "text": [
      "/var/folders/2l/crnlqh8n15n8jrvnvrk7d_7m0000gn/T/ipykernel_54179/1099980827.py:46: DeprecationWarning: DataFrameGroupBy.apply operated on the grouping columns. This behavior is deprecated, and in a future version of pandas the grouping columns will be excluded from the operation. Either pass `include_groups=False` to exclude the groupings or explicitly select the grouping columns after groupby to silence this warning.\n",
      "  .apply(lambda g: pd.Series({\n"
     ]
    },
    {
     "name": "stdout",
     "output_type": "stream",
     "text": [
      "Saved plot: ../../results/figures/precision_confidence_split30.png\n"
     ]
    },
    {
     "name": "stderr",
     "output_type": "stream",
     "text": [
      "/var/folders/2l/crnlqh8n15n8jrvnvrk7d_7m0000gn/T/ipykernel_54179/1099980827.py:46: DeprecationWarning: DataFrameGroupBy.apply operated on the grouping columns. This behavior is deprecated, and in a future version of pandas the grouping columns will be excluded from the operation. Either pass `include_groups=False` to exclude the groupings or explicitly select the grouping columns after groupby to silence this warning.\n",
      "  .apply(lambda g: pd.Series({\n"
     ]
    },
    {
     "name": "stdout",
     "output_type": "stream",
     "text": [
      "Saved plot: ../../results/figures/precision_confidence_split40.png\n"
     ]
    },
    {
     "name": "stderr",
     "output_type": "stream",
     "text": [
      "/var/folders/2l/crnlqh8n15n8jrvnvrk7d_7m0000gn/T/ipykernel_54179/1099980827.py:46: DeprecationWarning: DataFrameGroupBy.apply operated on the grouping columns. This behavior is deprecated, and in a future version of pandas the grouping columns will be excluded from the operation. Either pass `include_groups=False` to exclude the groupings or explicitly select the grouping columns after groupby to silence this warning.\n",
      "  .apply(lambda g: pd.Series({\n"
     ]
    },
    {
     "name": "stdout",
     "output_type": "stream",
     "text": [
      "Saved plot: ../../results/figures/precision_confidence_split50.png\n"
     ]
    },
    {
     "name": "stderr",
     "output_type": "stream",
     "text": [
      "/var/folders/2l/crnlqh8n15n8jrvnvrk7d_7m0000gn/T/ipykernel_54179/1099980827.py:46: DeprecationWarning: DataFrameGroupBy.apply operated on the grouping columns. This behavior is deprecated, and in a future version of pandas the grouping columns will be excluded from the operation. Either pass `include_groups=False` to exclude the groupings or explicitly select the grouping columns after groupby to silence this warning.\n",
      "  .apply(lambda g: pd.Series({\n"
     ]
    },
    {
     "name": "stdout",
     "output_type": "stream",
     "text": [
      "Saved plot: ../../results/figures/precision_confidence_split60.png\n"
     ]
    },
    {
     "name": "stderr",
     "output_type": "stream",
     "text": [
      "/var/folders/2l/crnlqh8n15n8jrvnvrk7d_7m0000gn/T/ipykernel_54179/1099980827.py:46: DeprecationWarning: DataFrameGroupBy.apply operated on the grouping columns. This behavior is deprecated, and in a future version of pandas the grouping columns will be excluded from the operation. Either pass `include_groups=False` to exclude the groupings or explicitly select the grouping columns after groupby to silence this warning.\n",
      "  .apply(lambda g: pd.Series({\n"
     ]
    },
    {
     "name": "stdout",
     "output_type": "stream",
     "text": [
      "Saved plot: ../../results/figures/precision_confidence_split70.png\n"
     ]
    },
    {
     "name": "stderr",
     "output_type": "stream",
     "text": [
      "/var/folders/2l/crnlqh8n15n8jrvnvrk7d_7m0000gn/T/ipykernel_54179/1099980827.py:46: DeprecationWarning: DataFrameGroupBy.apply operated on the grouping columns. This behavior is deprecated, and in a future version of pandas the grouping columns will be excluded from the operation. Either pass `include_groups=False` to exclude the groupings or explicitly select the grouping columns after groupby to silence this warning.\n",
      "  .apply(lambda g: pd.Series({\n"
     ]
    },
    {
     "name": "stdout",
     "output_type": "stream",
     "text": [
      "Saved plot: ../../results/figures/precision_confidence_split80.png\n"
     ]
    },
    {
     "name": "stderr",
     "output_type": "stream",
     "text": [
      "/var/folders/2l/crnlqh8n15n8jrvnvrk7d_7m0000gn/T/ipykernel_54179/1099980827.py:46: DeprecationWarning: DataFrameGroupBy.apply operated on the grouping columns. This behavior is deprecated, and in a future version of pandas the grouping columns will be excluded from the operation. Either pass `include_groups=False` to exclude the groupings or explicitly select the grouping columns after groupby to silence this warning.\n",
      "  .apply(lambda g: pd.Series({\n"
     ]
    },
    {
     "name": "stdout",
     "output_type": "stream",
     "text": [
      "Saved plot: ../../results/figures/precision_confidence_split90.png\n"
     ]
    }
   ],
   "source": [
    "import pandas as pd\n",
    "import seaborn as sns\n",
    "import matplotlib.pyplot as plt\n",
    "import numpy as np\n",
    "import os\n",
    "\n",
    "# Base directory where your split_X folders live\n",
    "base_dir = \"../../filtered_test_set/test_filtered_all/\"\n",
    "\n",
    "\n",
    "# Define splits you want to process (adjust if needed)\n",
    "splits = [\"20\", \"30\", \"40\", \"50\", \"60\", \"70\", \"80\", \"90\"]\n",
    "\n",
    "# Define confidence bins\n",
    "bins = np.arange(0, 1.05, 0.05)\n",
    "labels = [f\"{round(b,2)}-{round(b+0.05,2)}\" for b in bins[:-1]]\n",
    "\n",
    "def process_split(split):\n",
    "    \"\"\"Read all filtered CSVs for one split, compute precision, and plot.\"\"\"\n",
    "    split_dir = os.path.join(base_dir, f\"split_{split}\")\n",
    "    if not os.path.exists(split_dir):\n",
    "        print(f\"Skipping {split} (folder not found)\")\n",
    "        return\n",
    "    \n",
    "    dfs = []\n",
    "    for sim in [20, 30, 40, 50, 60, 70, 80, 90]:\n",
    "        file = os.path.join(split_dir, f\"test{split}_filtered_{sim}.csv\")\n",
    "        if os.path.exists(file):\n",
    "            df = pd.read_csv(file)\n",
    "            df[\"Filter_Similarity\"] = sim\n",
    "            dfs.append(df)\n",
    "    if not dfs:\n",
    "        print(f\"No files found for split {split}\")\n",
    "        return\n",
    "    \n",
    "    # Combine\n",
    "    all_df = pd.concat(dfs, ignore_index=True)\n",
    "\n",
    "    # Assign confidence bins\n",
    "    all_df[\"conf_bin\"] = pd.cut(all_df[\"confidence\"], bins=bins, labels=labels, include_lowest=True)\n",
    "\n",
    "    # Compute precision per bin\n",
    "    precision_df = (\n",
    "        all_df\n",
    "        .groupby([\"Filter_Similarity\", \"conf_bin\"], observed=True)\n",
    "        .apply(lambda g: pd.Series({\n",
    "            \"n\": len(g),\n",
    "            \"precision\": (g[\"prediction\"] == g[\"cycle\"]).mean() if len(g) > 0 else np.nan\n",
    "        }))\n",
    "        .reset_index()\n",
    "    )\n",
    "\n",
    "    # Plot\n",
    "    sns.set_style(\"whitegrid\")\n",
    "    sns.set_context(\"talk\", font_scale=1.1)\n",
    "\n",
    "    g = sns.FacetGrid(\n",
    "        precision_df.dropna(subset=[\"precision\"]),\n",
    "        col=\"Filter_Similarity\", col_wrap=3, sharey=True, height=4, aspect=1.3\n",
    "    )\n",
    "    g.map_dataframe(sns.lineplot, x=\"conf_bin\", y=\"precision\", marker=\"o\")\n",
    "\n",
    "    # Add n annotations\n",
    "    for ax, (sim, subdf) in zip(g.axes.flat, precision_df.groupby(\"Filter_Similarity\")):\n",
    "        for _, row in subdf.iterrows():\n",
    "            if not pd.isna(row[\"precision\"]) and row[\"n\"] > 0:\n",
    "                ax.text(\n",
    "                    row[\"conf_bin\"], row[\"precision\"] + 0.02,\n",
    "                    f\"n={int(row['n'])}\",\n",
    "                    ha=\"center\", va=\"bottom\", fontsize=8, rotation=90\n",
    "                )\n",
    "    \n",
    "    # Rotate x labels\n",
    "    for ax in g.axes.flat:\n",
    "        for label in ax.get_xticklabels():\n",
    "            label.set_rotation(90)\n",
    "\n",
    "    g.set_axis_labels(\"Confidence bin\", \"Precision\")\n",
    "    g.set_titles(\"Filtered ≤ {col_name}%\")\n",
    "    plt.tight_layout()\n",
    "\n",
    "    # Save figure\n",
    "    fig_dir = \"../../results/figures\"\n",
    "    out_file = os.path.join(fig_dir, f\"precision_confidence_split{split}.png\")\n",
    "    plt.savefig(out_file, dpi=600, bbox_inches=\"tight\")\n",
    "    plt.close()\n",
    "    print(f\"Saved plot: {out_file}\")\n",
    "\n",
    "# Run for all splits\n",
    "for split in splits:\n",
    "    process_split(split)\n"
   ]
  },
  {
   "cell_type": "code",
   "execution_count": 14,
   "id": "fe469d84",
   "metadata": {},
   "outputs": [
    {
     "name": "stderr",
     "output_type": "stream",
     "text": [
      "/var/folders/2l/crnlqh8n15n8jrvnvrk7d_7m0000gn/T/ipykernel_54179/2267464182.py:48: DeprecationWarning: DataFrameGroupBy.apply operated on the grouping columns. This behavior is deprecated, and in a future version of pandas the grouping columns will be excluded from the operation. Either pass `include_groups=False` to exclude the groupings or explicitly select the grouping columns after groupby to silence this warning.\n",
      "  .apply(lambda g: pd.Series({\n",
      "/var/folders/2l/crnlqh8n15n8jrvnvrk7d_7m0000gn/T/ipykernel_54179/2267464182.py:48: DeprecationWarning: DataFrameGroupBy.apply operated on the grouping columns. This behavior is deprecated, and in a future version of pandas the grouping columns will be excluded from the operation. Either pass `include_groups=False` to exclude the groupings or explicitly select the grouping columns after groupby to silence this warning.\n",
      "  .apply(lambda g: pd.Series({\n",
      "/var/folders/2l/crnlqh8n15n8jrvnvrk7d_7m0000gn/T/ipykernel_54179/2267464182.py:48: DeprecationWarning: DataFrameGroupBy.apply operated on the grouping columns. This behavior is deprecated, and in a future version of pandas the grouping columns will be excluded from the operation. Either pass `include_groups=False` to exclude the groupings or explicitly select the grouping columns after groupby to silence this warning.\n",
      "  .apply(lambda g: pd.Series({\n",
      "/var/folders/2l/crnlqh8n15n8jrvnvrk7d_7m0000gn/T/ipykernel_54179/2267464182.py:48: DeprecationWarning: DataFrameGroupBy.apply operated on the grouping columns. This behavior is deprecated, and in a future version of pandas the grouping columns will be excluded from the operation. Either pass `include_groups=False` to exclude the groupings or explicitly select the grouping columns after groupby to silence this warning.\n",
      "  .apply(lambda g: pd.Series({\n",
      "/var/folders/2l/crnlqh8n15n8jrvnvrk7d_7m0000gn/T/ipykernel_54179/2267464182.py:48: DeprecationWarning: DataFrameGroupBy.apply operated on the grouping columns. This behavior is deprecated, and in a future version of pandas the grouping columns will be excluded from the operation. Either pass `include_groups=False` to exclude the groupings or explicitly select the grouping columns after groupby to silence this warning.\n",
      "  .apply(lambda g: pd.Series({\n",
      "/var/folders/2l/crnlqh8n15n8jrvnvrk7d_7m0000gn/T/ipykernel_54179/2267464182.py:48: DeprecationWarning: DataFrameGroupBy.apply operated on the grouping columns. This behavior is deprecated, and in a future version of pandas the grouping columns will be excluded from the operation. Either pass `include_groups=False` to exclude the groupings or explicitly select the grouping columns after groupby to silence this warning.\n",
      "  .apply(lambda g: pd.Series({\n",
      "/var/folders/2l/crnlqh8n15n8jrvnvrk7d_7m0000gn/T/ipykernel_54179/2267464182.py:48: DeprecationWarning: DataFrameGroupBy.apply operated on the grouping columns. This behavior is deprecated, and in a future version of pandas the grouping columns will be excluded from the operation. Either pass `include_groups=False` to exclude the groupings or explicitly select the grouping columns after groupby to silence this warning.\n",
      "  .apply(lambda g: pd.Series({\n"
     ]
    },
    {
     "name": "stdout",
     "output_type": "stream",
     "text": [
      "\n",
      " AUC Summary Table:\n",
      "Filter_Similarity     20     30     40     50     60     70     80     90\n",
      "Split                                                                    \n",
      "20                 0.197  0.153  0.339  0.425  0.446  0.459  0.425  0.416\n",
      "30                 0.299  0.322  0.369  0.428  0.451  0.467  0.477  0.480\n",
      "40                 0.184  0.174  0.274  0.356  0.390  0.374  0.377  0.379\n",
      "50                 0.131  0.234  0.359  0.441  0.483  0.498  0.499  0.499\n",
      "60                 0.138  0.267  0.286  0.356  0.429  0.457  0.458  0.461\n",
      "70                 0.177  0.176  0.311  0.350  0.410  0.453  0.468  0.474\n",
      "80                 0.159  0.203  0.327  0.401  0.454  0.474  0.488  0.484\n",
      "90                 0.145  0.236  0.336  0.395  0.426  0.463  0.481  0.500\n"
     ]
    },
    {
     "name": "stderr",
     "output_type": "stream",
     "text": [
      "/var/folders/2l/crnlqh8n15n8jrvnvrk7d_7m0000gn/T/ipykernel_54179/2267464182.py:48: DeprecationWarning: DataFrameGroupBy.apply operated on the grouping columns. This behavior is deprecated, and in a future version of pandas the grouping columns will be excluded from the operation. Either pass `include_groups=False` to exclude the groupings or explicitly select the grouping columns after groupby to silence this warning.\n",
      "  .apply(lambda g: pd.Series({\n"
     ]
    }
   ],
   "source": [
    "import pandas as pd\n",
    "import seaborn as sns\n",
    "import matplotlib.pyplot as plt\n",
    "import numpy as np\n",
    "import os\n",
    "from sklearn.metrics import auc\n",
    "\n",
    "base_dir = \"../../filtered_test_set/test_filtered_all/\"\n",
    "\n",
    "splits = [\"20\", \"30\", \"40\", \"50\", \"60\", \"70\", \"80\", \"90\"]\n",
    "\n",
    "# Define confidence bins\n",
    "bins = np.arange(0, 1.05, 0.05)\n",
    "labels = [f\"{round(b,2)}-{round(b+0.05,2)}\" for b in bins[:-1]]\n",
    "bin_midpoints = bins[:-1] + 0.025  # center points for AUC\n",
    "\n",
    "# Collect AUCs here\n",
    "all_auc_results = []\n",
    "\n",
    "def process_split(split):\n",
    "    \"\"\"Read all filtered CSVs for one split, compute precision, AUC, and plot.\"\"\"\n",
    "    split_dir = os.path.join(base_dir, f\"split_{split}\")\n",
    "    if not os.path.exists(split_dir):\n",
    "        print(f\"Skipping {split} (folder not found)\")\n",
    "        return\n",
    "    \n",
    "    dfs = []\n",
    "    for sim in [20, 30, 40, 50, 60, 70, 80, 90]:\n",
    "        file = os.path.join(split_dir, f\"test{split}_filtered_{sim}.csv\")\n",
    "        if os.path.exists(file):\n",
    "            df = pd.read_csv(file)\n",
    "            df[\"Filter_Similarity\"] = sim\n",
    "            dfs.append(df)\n",
    "    if not dfs:\n",
    "        print(f\"No files found for split {split}\")\n",
    "        return\n",
    "    \n",
    "    # Combine\n",
    "    all_df = pd.concat(dfs, ignore_index=True)\n",
    "\n",
    "    # Assign confidence bins\n",
    "    all_df[\"conf_bin\"] = pd.cut(all_df[\"confidence\"], bins=bins, labels=labels, include_lowest=True)\n",
    "\n",
    "    # Compute precision per bin\n",
    "    precision_df = (\n",
    "        all_df\n",
    "        .groupby([\"Filter_Similarity\", \"conf_bin\"], observed=True)\n",
    "        .apply(lambda g: pd.Series({\n",
    "            \"n\": len(g),\n",
    "            \"precision\": (g[\"prediction\"] == g[\"cycle\"]).mean() if len(g) > 0 else np.nan\n",
    "        }))\n",
    "        .reset_index()\n",
    "    )\n",
    "\n",
    "    # Compute AUCs\n",
    "    auc_results = {}\n",
    "    for sim, subdf in precision_df.groupby(\"Filter_Similarity\"):\n",
    "        subdf = subdf.dropna(subset=[\"precision\"]).reset_index(drop=True)\n",
    "        if not subdf.empty:\n",
    "            # Map bins to midpoints\n",
    "            x = [bin_midpoints[labels.index(b)] for b in subdf[\"conf_bin\"]]\n",
    "            y = subdf[\"precision\"].values\n",
    "            auc_val = auc(x, y)\n",
    "            auc_results[sim] = auc_val\n",
    "            # Store results globally\n",
    "            all_auc_results.append({\"Split\": split, \"Filter_Similarity\": sim, \"AUC\": auc_val})\n",
    "\n",
    "\n",
    "\n",
    "# Run for all splits\n",
    "for split in splits:\n",
    "    process_split(split)\n",
    "\n",
    "# Print AUC summary table\n",
    "auc_df = pd.DataFrame(all_auc_results)\n",
    "if not auc_df.empty:\n",
    "    auc_pivot = auc_df.pivot(index=\"Split\", columns=\"Filter_Similarity\", values=\"AUC\")\n",
    "    print(\"\\n AUC Summary Table:\")\n",
    "    print(auc_pivot.round(3))\n",
    "else:\n",
    "    print(\"No AUC results computed.\")\n",
    "\n"
   ]
  },
  {
   "cell_type": "code",
   "execution_count": 27,
   "id": "f709ab29",
   "metadata": {},
   "outputs": [
    {
     "name": "stderr",
     "output_type": "stream",
     "text": [
      "/var/folders/2l/crnlqh8n15n8jrvnvrk7d_7m0000gn/T/ipykernel_54179/2866443752.py:52: DeprecationWarning: DataFrameGroupBy.apply operated on the grouping columns. This behavior is deprecated, and in a future version of pandas the grouping columns will be excluded from the operation. Either pass `include_groups=False` to exclude the groupings or explicitly select the grouping columns after groupby to silence this warning.\n",
      "  .apply(lambda g: pd.Series({\n",
      "/var/folders/2l/crnlqh8n15n8jrvnvrk7d_7m0000gn/T/ipykernel_54179/2866443752.py:52: DeprecationWarning: DataFrameGroupBy.apply operated on the grouping columns. This behavior is deprecated, and in a future version of pandas the grouping columns will be excluded from the operation. Either pass `include_groups=False` to exclude the groupings or explicitly select the grouping columns after groupby to silence this warning.\n",
      "  .apply(lambda g: pd.Series({\n",
      "/var/folders/2l/crnlqh8n15n8jrvnvrk7d_7m0000gn/T/ipykernel_54179/2866443752.py:52: DeprecationWarning: DataFrameGroupBy.apply operated on the grouping columns. This behavior is deprecated, and in a future version of pandas the grouping columns will be excluded from the operation. Either pass `include_groups=False` to exclude the groupings or explicitly select the grouping columns after groupby to silence this warning.\n",
      "  .apply(lambda g: pd.Series({\n",
      "/var/folders/2l/crnlqh8n15n8jrvnvrk7d_7m0000gn/T/ipykernel_54179/2866443752.py:52: DeprecationWarning: DataFrameGroupBy.apply operated on the grouping columns. This behavior is deprecated, and in a future version of pandas the grouping columns will be excluded from the operation. Either pass `include_groups=False` to exclude the groupings or explicitly select the grouping columns after groupby to silence this warning.\n",
      "  .apply(lambda g: pd.Series({\n",
      "/var/folders/2l/crnlqh8n15n8jrvnvrk7d_7m0000gn/T/ipykernel_54179/2866443752.py:52: DeprecationWarning: DataFrameGroupBy.apply operated on the grouping columns. This behavior is deprecated, and in a future version of pandas the grouping columns will be excluded from the operation. Either pass `include_groups=False` to exclude the groupings or explicitly select the grouping columns after groupby to silence this warning.\n",
      "  .apply(lambda g: pd.Series({\n",
      "/var/folders/2l/crnlqh8n15n8jrvnvrk7d_7m0000gn/T/ipykernel_54179/2866443752.py:52: DeprecationWarning: DataFrameGroupBy.apply operated on the grouping columns. This behavior is deprecated, and in a future version of pandas the grouping columns will be excluded from the operation. Either pass `include_groups=False` to exclude the groupings or explicitly select the grouping columns after groupby to silence this warning.\n",
      "  .apply(lambda g: pd.Series({\n",
      "/var/folders/2l/crnlqh8n15n8jrvnvrk7d_7m0000gn/T/ipykernel_54179/2866443752.py:52: DeprecationWarning: DataFrameGroupBy.apply operated on the grouping columns. This behavior is deprecated, and in a future version of pandas the grouping columns will be excluded from the operation. Either pass `include_groups=False` to exclude the groupings or explicitly select the grouping columns after groupby to silence this warning.\n",
      "  .apply(lambda g: pd.Series({\n",
      "/var/folders/2l/crnlqh8n15n8jrvnvrk7d_7m0000gn/T/ipykernel_54179/2866443752.py:52: DeprecationWarning: DataFrameGroupBy.apply operated on the grouping columns. This behavior is deprecated, and in a future version of pandas the grouping columns will be excluded from the operation. Either pass `include_groups=False` to exclude the groupings or explicitly select the grouping columns after groupby to silence this warning.\n",
      "  .apply(lambda g: pd.Series({\n"
     ]
    },
    {
     "name": "stdout",
     "output_type": "stream",
     "text": [
      "✅ Saved boxplot figure: ../../results/figures/precision_boxplots_filter20_30_above085.png\n"
     ]
    }
   ],
   "source": [
    "import pandas as pd\n",
    "import seaborn as sns\n",
    "import matplotlib.pyplot as plt\n",
    "import numpy as np\n",
    "import os\n",
    "\n",
    "# Base directory\n",
    "base_dir = \"../../filtered_test_set/final_filtered_test/\"\n",
    "\n",
    "# Splits and bins\n",
    "splits = [\"20\", \"30\", \"40\", \"50\", \"60\", \"70\", \"80\", \"90\"]\n",
    "bins = np.arange(0, 1.05, 0.05)\n",
    "labels = [f\"{round(b,2)}-{round(b+0.05,2)}\" for b in bins[:-1]]\n",
    "\n",
    "all_precisions = []\n",
    "\n",
    "for split in splits:\n",
    "    split_dir = os.path.join(base_dir, f\"test_{split}\")\n",
    "    if not os.path.exists(split_dir):\n",
    "        print(f\"⚠️ Skipping {split} (no folder {split_dir})\")\n",
    "        continue\n",
    "    \n",
    "    dfs = []\n",
    "    for file in os.listdir(split_dir):\n",
    "        if file.endswith(\".csv\") and file.startswith(f\"merged_{split}_under\"):\n",
    "            try:\n",
    "                sim = int(file.split(\"_under\")[-1].replace(\".csv\", \"\"))\n",
    "            except ValueError:\n",
    "                print(f\"⚠️ Could not parse similarity from filename: {file}\")\n",
    "                continue\n",
    "            df = pd.read_csv(os.path.join(split_dir, file))\n",
    "            df[\"Filter_Similarity\"] = sim\n",
    "            df[\"Test_Split\"] = split\n",
    "            dfs.append(df)\n",
    "    \n",
    "    if not dfs:\n",
    "        print(f\"⚠️ No CSV files found for test_{split}\")\n",
    "        continue\n",
    "    \n",
    "    combined = pd.concat(dfs, ignore_index=True)\n",
    "    combined = combined[combined[\"confidence\"] > 0.85]  # only high confidence\n",
    "\n",
    "    if combined.empty:\n",
    "        print(f\"⚠️ No rows above confidence > 0.85 for test_{split}\")\n",
    "        continue\n",
    "    \n",
    "    combined[\"conf_bin\"] = pd.cut(combined[\"confidence\"], bins=bins, labels=labels, include_lowest=True)\n",
    "    \n",
    "    precision_df = (\n",
    "        combined\n",
    "        .groupby([\"Test_Split\", \"Filter_Similarity\", \"conf_bin\"], observed=True)\n",
    "        .apply(lambda g: pd.Series({\n",
    "            \"precision\": (g[\"prediction\"] == g[\"cycle\"]).mean() if len(g) > 0 else np.nan\n",
    "        }))\n",
    "        .reset_index()\n",
    "    )\n",
    "    \n",
    "    all_precisions.append(precision_df)\n",
    "\n",
    "# Combine all results\n",
    "if all_precisions:\n",
    "    all_precisions_df = pd.concat(all_precisions, ignore_index=True)\n",
    "\n",
    "    # Filter only similarity 20 and 30\n",
    "    subset_df = all_precisions_df[all_precisions_df[\"Filter_Similarity\"].isin([20, 30])]\n",
    "\n",
    "    if subset_df.empty:\n",
    "        print(\"⚠️ No precision data found for Filter_Similarity 20 or 30\")\n",
    "    else:\n",
    "        # --------------------------\n",
    "        # Boxplot for each Test_Split\n",
    "        # --------------------------\n",
    "        plt.figure(figsize=(12, 7))\n",
    "        sns.boxplot(\n",
    "            data=subset_df.dropna(subset=[\"precision\"]),\n",
    "            x=\"Test_Split\", y=\"precision\",\n",
    "            hue=\"Filter_Similarity\"\n",
    "        )\n",
    "\n",
    "        plt.xticks(rotation=45)\n",
    "        plt.xlabel(\"Test Split\")\n",
    "        plt.ylabel(\"Precision\")\n",
    "        plt.title(\"Precision Distribution (confidence > 0.85, Filter = 20 & 30)\")\n",
    "        plt.legend(title=\"Filter Similarity\", bbox_to_anchor=(1.05, 1), loc=\"upper left\")\n",
    "        plt.tight_layout()\n",
    "\n",
    "        figure_dir = \"../../results/figures\"\n",
    "        out_file = os.path.join(figure_dir, \"precision_boxplots_filter20_30_above085.png\")\n",
    "        plt.savefig(out_file, dpi=600, bbox_inches=\"tight\")\n",
    "        plt.close()\n",
    "\n",
    "        print(f\"✅ Saved boxplot figure: {out_file}\")\n",
    "else:\n",
    "    print(\"❌ No precision data found — check file paths and naming scheme.\")\n"
   ]
  }
 ],
 "metadata": {
  "kernelspec": {
   "display_name": "metaphor",
   "language": "python",
   "name": "python3"
  },
  "language_info": {
   "codemirror_mode": {
    "name": "ipython",
    "version": 3
   },
   "file_extension": ".py",
   "mimetype": "text/x-python",
   "name": "python",
   "nbconvert_exporter": "python",
   "pygments_lexer": "ipython3",
   "version": "3.11.7"
  }
 },
 "nbformat": 4,
 "nbformat_minor": 5
}
